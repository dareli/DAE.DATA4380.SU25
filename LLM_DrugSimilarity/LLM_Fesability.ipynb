{
 "cells": [
  {
   "cell_type": "markdown",
   "id": "19bd4a8d-f9c4-4faa-9cfd-361b567b973e",
   "metadata": {},
   "source": [
    "# LLM Project – Feasibility & Prep \n",
    "\n",
    "This notebook prepares data for a project that explores whether drugs with similar descriptions also share similar side effects. The idea is to use a language model to embed drug descriptions from DrugBank and compare those embeddings to known side effect data from SIDER. If similar descriptions align with shared side effects, it could help uncover drug relationships using only text.\n",
    "\n",
    "What's done in this notebook:\n",
    "- Parsed DrugBank XML to extract drug descriptions\n",
    "- Loaded and cleaned SIDER side effect data\n",
    "- Merged both sources by drug name\n",
    "- Grouped known side effects per drug\n",
    "- Embedded drug descriptions using `all-MiniLM-L6-v2`\n",
    "\n",
    "-------------"
   ]
  },
  {
   "cell_type": "code",
   "execution_count": 1,
   "id": "f2b38aa5-c971-4ab5-9869-4f20ca193476",
   "metadata": {},
   "outputs": [
    {
     "name": "stderr",
     "output_type": "stream",
     "text": [
      "/Users/darleneeligado/anaconda3/envs/drug-llm/lib/python3.10/site-packages/tqdm/auto.py:21: TqdmWarning: IProgress not found. Please update jupyter and ipywidgets. See https://ipywidgets.readthedocs.io/en/stable/user_install.html\n",
      "  from .autonotebook import tqdm as notebook_tqdm\n"
     ]
    }
   ],
   "source": [
    "# load imports\n",
    "import pandas as pd\n",
    "import numpy as np\n",
    "import matplotlib.pyplot as plt\n",
    "import xml.etree.ElementTree as ET\n",
    "from sklearn.metrics.pairwise import cosine_similarity\n",
    "from sentence_transformers import SentenceTransformer\n",
    "from sklearn.decomposition import PCA\n",
    "from sklearn.cluster import KMeans"
   ]
  },
  {
   "cell_type": "code",
   "execution_count": 2,
   "id": "ecf00ba0-c21a-4cd0-a69b-b8581b988ddc",
   "metadata": {},
   "outputs": [],
   "source": [
    "# load and parse DrugBank XML\n",
    "drugbank_path = 'full_database.xml'\n",
    "tree = ET.parse(drugbank_path)\n",
    "root = tree.getroot()\n",
    "ns = {'db': 'http://www.drugbank.ca'}  # DrugBank XML namespace"
   ]
  },
  {
   "cell_type": "code",
   "execution_count": 3,
   "id": "1055554d-a9e2-4037-a445-2bf7b175f8cb",
   "metadata": {},
   "outputs": [
    {
     "name": "stdout",
     "output_type": "stream",
     "text": [
      "DrugBank shape: (17430, 4)\n",
      "  drugbank_id                 name  \\\n",
      "0     DB00001            Lepirudin   \n",
      "1     DB00002            Cetuximab   \n",
      "2     DB00003         Dornase alfa   \n",
      "3     DB00004  Denileukin diftitox   \n",
      "4     DB00005           Etanercept   \n",
      "\n",
      "                                         description           name_lower  \n",
      "0  Lepirudin is a recombinant hirudin formed by 6...            lepirudin  \n",
      "1  Cetuximab is a recombinant chimeric human/mous...            cetuximab  \n",
      "2  Dornase alfa is a biosynthetic form of human d...         dornase alfa  \n",
      "3  Denileukin diftitox is an IL2-receptor-directe...  denileukin diftitox  \n",
      "4  Dimeric fusion protein consisting of the extra...           etanercept  \n"
     ]
    }
   ],
   "source": [
    "# extract drug info: id, name, description\n",
    "drug_records = []\n",
    "for drug in root.findall('db:drug', ns):\n",
    "    try:\n",
    "        drug_id = drug.find('db:drugbank-id', ns).text\n",
    "        name = drug.find('db:name', ns).text\n",
    "        description = drug.find('db:description', ns).text\n",
    "        drug_records.append((drug_id, name, description))\n",
    "    except:\n",
    "        continue\n",
    "\n",
    "# new df\n",
    "drug_df = pd.DataFrame(drug_records, columns=['drugbank_id', 'name', 'description'])\n",
    "drug_df['name_lower'] = drug_df['name'].str.lower()\n",
    "# check\n",
    "print(\"DrugBank shape:\", drug_df.shape)\n",
    "print(drug_df.head())"
   ]
  },
  {
   "cell_type": "code",
   "execution_count": 4,
   "id": "882c667f-1d42-45a1-b40a-26dc5baf62d2",
   "metadata": {},
   "outputs": [
    {
     "data": {
      "text/html": [
       "<div>\n",
       "<style scoped>\n",
       "    .dataframe tbody tr th:only-of-type {\n",
       "        vertical-align: middle;\n",
       "    }\n",
       "\n",
       "    .dataframe tbody tr th {\n",
       "        vertical-align: top;\n",
       "    }\n",
       "\n",
       "    .dataframe thead th {\n",
       "        text-align: right;\n",
       "    }\n",
       "</style>\n",
       "<table border=\"1\" class=\"dataframe\">\n",
       "  <thead>\n",
       "    <tr style=\"text-align: right;\">\n",
       "      <th></th>\n",
       "      <th>0</th>\n",
       "      <th>1</th>\n",
       "    </tr>\n",
       "  </thead>\n",
       "  <tbody>\n",
       "    <tr>\n",
       "      <th>0</th>\n",
       "      <td>CID100000085</td>\n",
       "      <td>carnitine</td>\n",
       "    </tr>\n",
       "    <tr>\n",
       "      <th>1</th>\n",
       "      <td>CID100000119</td>\n",
       "      <td>gamma-aminobutyric</td>\n",
       "    </tr>\n",
       "    <tr>\n",
       "      <th>2</th>\n",
       "      <td>CID100000137</td>\n",
       "      <td>5-aminolevulinic</td>\n",
       "    </tr>\n",
       "    <tr>\n",
       "      <th>3</th>\n",
       "      <td>CID100000143</td>\n",
       "      <td>leucovorin</td>\n",
       "    </tr>\n",
       "    <tr>\n",
       "      <th>4</th>\n",
       "      <td>CID100000146</td>\n",
       "      <td>5-methyltetrahydrofolate</td>\n",
       "    </tr>\n",
       "  </tbody>\n",
       "</table>\n",
       "</div>"
      ],
      "text/plain": [
       "              0                         1\n",
       "0  CID100000085                 carnitine\n",
       "1  CID100000119        gamma-aminobutyric\n",
       "2  CID100000137          5-aminolevulinic\n",
       "3  CID100000143                leucovorin\n",
       "4  CID100000146  5-methyltetrahydrofolate"
      ]
     },
     "execution_count": 4,
     "metadata": {},
     "output_type": "execute_result"
    }
   ],
   "source": [
    "# load and clean SIDER data\n",
    "# drug names\n",
    "sider_names = pd.read_csv('drug_names.tsv', sep='\\t', header=None)\n",
    "sider_names.head()"
   ]
  },
  {
   "cell_type": "code",
   "execution_count": 5,
   "id": "55fdb31f-0b49-4b95-96ed-0789ee8a4d38",
   "metadata": {},
   "outputs": [
    {
     "data": {
      "text/html": [
       "<div>\n",
       "<style scoped>\n",
       "    .dataframe tbody tr th:only-of-type {\n",
       "        vertical-align: middle;\n",
       "    }\n",
       "\n",
       "    .dataframe tbody tr th {\n",
       "        vertical-align: top;\n",
       "    }\n",
       "\n",
       "    .dataframe thead th {\n",
       "        text-align: right;\n",
       "    }\n",
       "</style>\n",
       "<table border=\"1\" class=\"dataframe\">\n",
       "  <thead>\n",
       "    <tr style=\"text-align: right;\">\n",
       "      <th></th>\n",
       "      <th>stitch_id</th>\n",
       "      <th>drug_name</th>\n",
       "      <th>drug_name_lower</th>\n",
       "    </tr>\n",
       "  </thead>\n",
       "  <tbody>\n",
       "    <tr>\n",
       "      <th>0</th>\n",
       "      <td>CID100000085</td>\n",
       "      <td>carnitine</td>\n",
       "      <td>carnitine</td>\n",
       "    </tr>\n",
       "    <tr>\n",
       "      <th>1</th>\n",
       "      <td>CID100000119</td>\n",
       "      <td>gamma-aminobutyric</td>\n",
       "      <td>gamma-aminobutyric</td>\n",
       "    </tr>\n",
       "    <tr>\n",
       "      <th>2</th>\n",
       "      <td>CID100000137</td>\n",
       "      <td>5-aminolevulinic</td>\n",
       "      <td>5-aminolevulinic</td>\n",
       "    </tr>\n",
       "    <tr>\n",
       "      <th>3</th>\n",
       "      <td>CID100000143</td>\n",
       "      <td>leucovorin</td>\n",
       "      <td>leucovorin</td>\n",
       "    </tr>\n",
       "    <tr>\n",
       "      <th>4</th>\n",
       "      <td>CID100000146</td>\n",
       "      <td>5-methyltetrahydrofolate</td>\n",
       "      <td>5-methyltetrahydrofolate</td>\n",
       "    </tr>\n",
       "  </tbody>\n",
       "</table>\n",
       "</div>"
      ],
      "text/plain": [
       "      stitch_id                 drug_name           drug_name_lower\n",
       "0  CID100000085                 carnitine                 carnitine\n",
       "1  CID100000119        gamma-aminobutyric        gamma-aminobutyric\n",
       "2  CID100000137          5-aminolevulinic          5-aminolevulinic\n",
       "3  CID100000143                leucovorin                leucovorin\n",
       "4  CID100000146  5-methyltetrahydrofolate  5-methyltetrahydrofolate"
      ]
     },
     "execution_count": 5,
     "metadata": {},
     "output_type": "execute_result"
    }
   ],
   "source": [
    "sider_names.columns = ['stitch_id', 'drug_name']\n",
    "sider_names['drug_name_lower'] = sider_names['drug_name'].str.lower()\n",
    "sider_names.head()"
   ]
  },
  {
   "cell_type": "code",
   "execution_count": 6,
   "id": "f56443db-a424-4e31-90a8-997b9e16ff54",
   "metadata": {},
   "outputs": [
    {
     "data": {
      "text/html": [
       "<div>\n",
       "<style scoped>\n",
       "    .dataframe tbody tr th:only-of-type {\n",
       "        vertical-align: middle;\n",
       "    }\n",
       "\n",
       "    .dataframe tbody tr th {\n",
       "        vertical-align: top;\n",
       "    }\n",
       "\n",
       "    .dataframe thead th {\n",
       "        text-align: right;\n",
       "    }\n",
       "</style>\n",
       "<table border=\"1\" class=\"dataframe\">\n",
       "  <thead>\n",
       "    <tr style=\"text-align: right;\">\n",
       "      <th></th>\n",
       "      <th>0</th>\n",
       "      <th>1</th>\n",
       "      <th>2</th>\n",
       "      <th>3</th>\n",
       "      <th>4</th>\n",
       "      <th>5</th>\n",
       "    </tr>\n",
       "  </thead>\n",
       "  <tbody>\n",
       "    <tr>\n",
       "      <th>0</th>\n",
       "      <td>CID100000085</td>\n",
       "      <td>CID000010917</td>\n",
       "      <td>C0000729</td>\n",
       "      <td>LLT</td>\n",
       "      <td>C0000729</td>\n",
       "      <td>Abdominal cramps</td>\n",
       "    </tr>\n",
       "    <tr>\n",
       "      <th>1</th>\n",
       "      <td>CID100000085</td>\n",
       "      <td>CID000010917</td>\n",
       "      <td>C0000729</td>\n",
       "      <td>PT</td>\n",
       "      <td>C0000737</td>\n",
       "      <td>Abdominal pain</td>\n",
       "    </tr>\n",
       "    <tr>\n",
       "      <th>2</th>\n",
       "      <td>CID100000085</td>\n",
       "      <td>CID000010917</td>\n",
       "      <td>C0000737</td>\n",
       "      <td>LLT</td>\n",
       "      <td>C0000737</td>\n",
       "      <td>Abdominal pain</td>\n",
       "    </tr>\n",
       "    <tr>\n",
       "      <th>3</th>\n",
       "      <td>CID100000085</td>\n",
       "      <td>CID000010917</td>\n",
       "      <td>C0000737</td>\n",
       "      <td>PT</td>\n",
       "      <td>C0687713</td>\n",
       "      <td>Gastrointestinal pain</td>\n",
       "    </tr>\n",
       "    <tr>\n",
       "      <th>4</th>\n",
       "      <td>CID100000085</td>\n",
       "      <td>CID000010917</td>\n",
       "      <td>C0000737</td>\n",
       "      <td>PT</td>\n",
       "      <td>C0000737</td>\n",
       "      <td>Abdominal pain</td>\n",
       "    </tr>\n",
       "  </tbody>\n",
       "</table>\n",
       "</div>"
      ],
      "text/plain": [
       "              0             1         2    3         4                      5\n",
       "0  CID100000085  CID000010917  C0000729  LLT  C0000729       Abdominal cramps\n",
       "1  CID100000085  CID000010917  C0000729   PT  C0000737         Abdominal pain\n",
       "2  CID100000085  CID000010917  C0000737  LLT  C0000737         Abdominal pain\n",
       "3  CID100000085  CID000010917  C0000737   PT  C0687713  Gastrointestinal pain\n",
       "4  CID100000085  CID000010917  C0000737   PT  C0000737         Abdominal pain"
      ]
     },
     "execution_count": 6,
     "metadata": {},
     "output_type": "execute_result"
    }
   ],
   "source": [
    "# side effect data\n",
    "sider_effects = pd.read_csv('meddra_all_se.tsv', sep='\\t', header=None)\n",
    "sider_effects.head()"
   ]
  },
  {
   "cell_type": "code",
   "execution_count": 7,
   "id": "80d8faee-479f-4d4f-bab1-92f61e19dd22",
   "metadata": {},
   "outputs": [
    {
     "data": {
      "text/html": [
       "<div>\n",
       "<style scoped>\n",
       "    .dataframe tbody tr th:only-of-type {\n",
       "        vertical-align: middle;\n",
       "    }\n",
       "\n",
       "    .dataframe tbody tr th {\n",
       "        vertical-align: top;\n",
       "    }\n",
       "\n",
       "    .dataframe thead th {\n",
       "        text-align: right;\n",
       "    }\n",
       "</style>\n",
       "<table border=\"1\" class=\"dataframe\">\n",
       "  <thead>\n",
       "    <tr style=\"text-align: right;\">\n",
       "      <th></th>\n",
       "      <th>stitch_id</th>\n",
       "      <th>stitch_id_stereo</th>\n",
       "      <th>umls_id</th>\n",
       "      <th>term_type</th>\n",
       "      <th>umls_linked_id</th>\n",
       "      <th>side_effect_name</th>\n",
       "    </tr>\n",
       "  </thead>\n",
       "  <tbody>\n",
       "    <tr>\n",
       "      <th>0</th>\n",
       "      <td>CID100000085</td>\n",
       "      <td>CID000010917</td>\n",
       "      <td>C0000729</td>\n",
       "      <td>LLT</td>\n",
       "      <td>C0000729</td>\n",
       "      <td>Abdominal cramps</td>\n",
       "    </tr>\n",
       "    <tr>\n",
       "      <th>1</th>\n",
       "      <td>CID100000085</td>\n",
       "      <td>CID000010917</td>\n",
       "      <td>C0000729</td>\n",
       "      <td>PT</td>\n",
       "      <td>C0000737</td>\n",
       "      <td>Abdominal pain</td>\n",
       "    </tr>\n",
       "    <tr>\n",
       "      <th>2</th>\n",
       "      <td>CID100000085</td>\n",
       "      <td>CID000010917</td>\n",
       "      <td>C0000737</td>\n",
       "      <td>LLT</td>\n",
       "      <td>C0000737</td>\n",
       "      <td>Abdominal pain</td>\n",
       "    </tr>\n",
       "    <tr>\n",
       "      <th>3</th>\n",
       "      <td>CID100000085</td>\n",
       "      <td>CID000010917</td>\n",
       "      <td>C0000737</td>\n",
       "      <td>PT</td>\n",
       "      <td>C0687713</td>\n",
       "      <td>Gastrointestinal pain</td>\n",
       "    </tr>\n",
       "    <tr>\n",
       "      <th>4</th>\n",
       "      <td>CID100000085</td>\n",
       "      <td>CID000010917</td>\n",
       "      <td>C0000737</td>\n",
       "      <td>PT</td>\n",
       "      <td>C0000737</td>\n",
       "      <td>Abdominal pain</td>\n",
       "    </tr>\n",
       "  </tbody>\n",
       "</table>\n",
       "</div>"
      ],
      "text/plain": [
       "      stitch_id stitch_id_stereo   umls_id term_type umls_linked_id  \\\n",
       "0  CID100000085     CID000010917  C0000729       LLT       C0000729   \n",
       "1  CID100000085     CID000010917  C0000729        PT       C0000737   \n",
       "2  CID100000085     CID000010917  C0000737       LLT       C0000737   \n",
       "3  CID100000085     CID000010917  C0000737        PT       C0687713   \n",
       "4  CID100000085     CID000010917  C0000737        PT       C0000737   \n",
       "\n",
       "        side_effect_name  \n",
       "0       Abdominal cramps  \n",
       "1         Abdominal pain  \n",
       "2         Abdominal pain  \n",
       "3  Gastrointestinal pain  \n",
       "4         Abdominal pain  "
      ]
     },
     "execution_count": 7,
     "metadata": {},
     "output_type": "execute_result"
    }
   ],
   "source": [
    "sider_effects = pd.read_csv('meddra_all_se.tsv', sep='\\t', header=None)\n",
    "# some mapping\n",
    "sider_effects.columns = [\n",
    "    'stitch_id', 'stitch_id_stereo', 'umls_id',\n",
    "    'term_type', 'umls_linked_id', 'side_effect_name'\n",
    "]\n",
    "# col names (had to look these up & what each column likely represents)\n",
    "# 0, stitch_id: Drug ID (flat)\n",
    "# 1, stitch_id_stereo: Drug ID with stereochemistry\n",
    "# 2, umls_id: UMLS concept ID (unique code for the side effect term)\n",
    "# 3, term_type: MedDRA term type (LLT = Lower Level Term, PT = Preferred Term)\n",
    "# 4, umls_linked_id: Canonical UMLS ID for grouping similar terms\n",
    "# 5, side_effect_name: Human-readable name of the side effect\n",
    "sider_effects.head()"
   ]
  },
  {
   "cell_type": "code",
   "execution_count": 8,
   "id": "368959a5-3298-4a35-be0f-07141c388276",
   "metadata": {},
   "outputs": [
    {
     "name": "stdout",
     "output_type": "stream",
     "text": [
      "SIDER drug names: (1430, 3)\n",
      "SIDER side effects (cleaned): (309849, 2)\n"
     ]
    },
    {
     "data": {
      "text/html": [
       "<div>\n",
       "<style scoped>\n",
       "    .dataframe tbody tr th:only-of-type {\n",
       "        vertical-align: middle;\n",
       "    }\n",
       "\n",
       "    .dataframe tbody tr th {\n",
       "        vertical-align: top;\n",
       "    }\n",
       "\n",
       "    .dataframe thead th {\n",
       "        text-align: right;\n",
       "    }\n",
       "</style>\n",
       "<table border=\"1\" class=\"dataframe\">\n",
       "  <thead>\n",
       "    <tr style=\"text-align: right;\">\n",
       "      <th></th>\n",
       "      <th>stitch_id</th>\n",
       "      <th>side_effect_name</th>\n",
       "    </tr>\n",
       "  </thead>\n",
       "  <tbody>\n",
       "    <tr>\n",
       "      <th>0</th>\n",
       "      <td>CID100000085</td>\n",
       "      <td>Abdominal cramps</td>\n",
       "    </tr>\n",
       "    <tr>\n",
       "      <th>1</th>\n",
       "      <td>CID100000085</td>\n",
       "      <td>Abdominal pain</td>\n",
       "    </tr>\n",
       "    <tr>\n",
       "      <th>2</th>\n",
       "      <td>CID100000085</td>\n",
       "      <td>Abdominal pain</td>\n",
       "    </tr>\n",
       "    <tr>\n",
       "      <th>3</th>\n",
       "      <td>CID100000085</td>\n",
       "      <td>Gastrointestinal pain</td>\n",
       "    </tr>\n",
       "    <tr>\n",
       "      <th>4</th>\n",
       "      <td>CID100000085</td>\n",
       "      <td>Abdominal pain</td>\n",
       "    </tr>\n",
       "  </tbody>\n",
       "</table>\n",
       "</div>"
      ],
      "text/plain": [
       "      stitch_id       side_effect_name\n",
       "0  CID100000085       Abdominal cramps\n",
       "1  CID100000085         Abdominal pain\n",
       "2  CID100000085         Abdominal pain\n",
       "3  CID100000085  Gastrointestinal pain\n",
       "4  CID100000085         Abdominal pain"
      ]
     },
     "execution_count": 8,
     "metadata": {},
     "output_type": "execute_result"
    }
   ],
   "source": [
    "# filter out invalid side effect entries\n",
    "sider_effects = sider_effects[sider_effects['side_effect_name'].notna()][['stitch_id', 'side_effect_name']]\n",
    "\n",
    "print(\"SIDER drug names:\", sider_names.shape)\n",
    "print(\"SIDER side effects (cleaned):\", sider_effects.shape)\n",
    "sider_effects.head()"
   ]
  },
  {
   "cell_type": "code",
   "execution_count": 10,
   "id": "9846a213-de20-4769-8a32-7470cc976050",
   "metadata": {},
   "outputs": [
    {
     "name": "stdout",
     "output_type": "stream",
     "text": [
      "Final grouped shape: (1028, 4)\n",
      "  drugbank_id          name  \\\n",
      "0     DB00006   Bivalirudin   \n",
      "1     DB00014     Goserelin   \n",
      "2     DB00035  Desmopressin   \n",
      "3     DB00040      Glucagon   \n",
      "4     DB00049   Rasburicase   \n",
      "\n",
      "                                         description  \\\n",
      "0  Bivalirudin is a synthetic 20 residue peptide ...   \n",
      "1  Goserelin is a synthetic hormone. In men, it s...   \n",
      "2  Desmopressin (dDAVP), a synthetic analogue of ...   \n",
      "3  Glucagon is a 29 amino acid hormone used as a ...   \n",
      "4  Rasburicase is a recombinant urate-oxidase enz...   \n",
      "\n",
      "                                    side_effect_name  \n",
      "0  {Ecchymosis, Urinary retention, Atelectasis, P...  \n",
      "1  {Pulmonary embolism, Incontinence, Cough, Ecch...  \n",
      "2  {Wheezing, Vertigo, Dehydration, Water retenti...  \n",
      "3  {Hypoglycaemic coma, Drug interaction, Blood p...  \n",
      "4  {Oedema peripheral, Hypophosphataemia, Cough, ...  \n"
     ]
    }
   ],
   "source": [
    "# merge and group by drug\n",
    "\n",
    "# merge DrugBank & SIDER names using lowercase names\n",
    "merged = pd.merge(drug_df, sider_names, left_on='name_lower', right_on='drug_name_lower', how='inner')\n",
    "\n",
    "# merge side effect names using id\n",
    "merged = pd.merge(merged, sider_effects, on='stitch_id', how='inner')\n",
    "\n",
    "# drop missing descriptions\n",
    "merged = merged[merged['description'].notna()].copy()\n",
    "\n",
    "# group side effects per drug\n",
    "grouped = merged.groupby(['drugbank_id', 'name', 'description'])['side_effect_name'].apply(set).reset_index()\n",
    "grouped.reset_index(drop=True, inplace=True)\n",
    "\n",
    "print(\"Final grouped shape:\", grouped.shape)\n",
    "print(grouped.head())"
   ]
  },
  {
   "cell_type": "markdown",
   "id": "2125d531-bfde-47e0-99ea-ccbfe51f890c",
   "metadata": {},
   "source": [
    "------\n",
    "\n",
    "## Embed Descriptions with SentenceTransformer"
   ]
  },
  {
   "cell_type": "code",
   "execution_count": 12,
   "id": "37cb9cc7-f1f4-482c-8ba6-aa1bce6c3859",
   "metadata": {},
   "outputs": [
    {
     "name": "stderr",
     "output_type": "stream",
     "text": [
      "Batches: 100%|██████████████████████████████████| 33/33 [00:02<00:00, 14.33it/s]"
     ]
    },
    {
     "name": "stdout",
     "output_type": "stream",
     "text": [
      "Embedding shape: (384,)\n"
     ]
    },
    {
     "name": "stderr",
     "output_type": "stream",
     "text": [
      "\n"
     ]
    }
   ],
   "source": [
    "# embed drug descriptions \n",
    "model = SentenceTransformer('all-MiniLM-L6-v2')\n",
    "\n",
    "# get 2d numpy array of shape (1028, 384)\n",
    "embeddings = model.encode(grouped['description'].tolist(), show_progress_bar=True)\n",
    "\n",
    "# store ea embedding as a row \n",
    "grouped['embedding'] = list(embeddings)\n",
    "print(f\"Embedding shape: {grouped.loc[0, 'embedding'].shape}\")"
   ]
  },
  {
   "cell_type": "code",
   "execution_count": 13,
   "id": "c58a3ad7-270f-40e2-af33-62b41b3a6adc",
   "metadata": {},
   "outputs": [
    {
     "name": "stdout",
     "output_type": "stream",
     "text": [
      "Saved: drug_descriptions_embeddings.csv\n"
     ]
    }
   ],
   "source": [
    "# saving into csv \n",
    "export_df = grouped[['drugbank_id', 'name', 'description', 'side_effect_name']].copy()\n",
    "\n",
    "# embeddings are arrays, flatten before saving\n",
    "embeddings_matrix = np.vstack(grouped['embedding'].values)\n",
    "embedding_df = pd.DataFrame(embeddings_matrix, columns=[f\"emb_{i}\" for i in range(embeddings_matrix.shape[1])])\n",
    "final_df = pd.concat([export_df.reset_index(drop=True), embedding_df], axis=1)\n",
    "\n",
    "final_df.to_csv('drug_descriptions_embeddings.csv', index=False)\n",
    "print(\"Saved: drug_descriptions_embeddings.csv\")"
   ]
  }
 ],
 "metadata": {
  "kernelspec": {
   "display_name": "Python 3 (ipykernel)",
   "language": "python",
   "name": "python3"
  },
  "language_info": {
   "codemirror_mode": {
    "name": "ipython",
    "version": 3
   },
   "file_extension": ".py",
   "mimetype": "text/x-python",
   "name": "python",
   "nbconvert_exporter": "python",
   "pygments_lexer": "ipython3",
   "version": "3.11.5"
  }
 },
 "nbformat": 4,
 "nbformat_minor": 5
}
