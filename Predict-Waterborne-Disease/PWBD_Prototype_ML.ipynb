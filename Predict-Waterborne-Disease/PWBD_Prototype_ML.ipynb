{
 "cells": [
  {
   "cell_type": "markdown",
   "id": "78f5cd4e-89bf-49b1-a48d-eb388d4be9d8",
   "metadata": {},
   "source": [
    "## Tabular Prototype - Machine Learning\n",
    "### Classifying Waterborne Disease Counts Using Global Water Quality and Socioeconomic Indicators\n",
    "---"
   ]
  },
  {
   "cell_type": "markdown",
   "id": "861c693d-6143-4c0c-ac88-472ce2ac1d0b",
   "metadata": {},
   "source": [
    "RECAP of EDA Observations  & Interpretation:\n",
    "- No outliers; weak/no linear correlation; random scatterplots\n",
    "    - Simple linear models will struggle. For baseline models, tree-based models will be attempted.\n",
    "- Things to consider/do:\n",
    "    - Feature engineering since majority of numerical feature correlations are low (<0.04)\n",
    "    - Encode categorical features\n",
    "----\n",
    "#### Problem Formulation \n",
    "- No duplicates"
   ]
  },
  {
   "cell_type": "code",
   "execution_count": 84,
   "id": "1bef755f-fe69-495c-8536-7802f53a7d9c",
   "metadata": {},
   "outputs": [],
   "source": [
    "# importing libraries\n",
    "import pandas as pd\n",
    "import numpy as np \n",
    "import matplotlib.pyplot as plt\n",
    "from scipy import stats\n",
    "import seaborn as sns\n",
    "\n",
    "\n",
    "from sklearn.model_selection import train_test_split\n",
    "from sklearn.preprocessing import OneHotEncoder\n",
    "from sklearn.compose import ColumnTransformer\n",
    "from sklearn.pipeline import Pipeline\n",
    "from sklearn.model_selection import RandomizedSearchCV\n",
    "from sklearn.preprocessing import MinMaxScaler\n",
    "\n",
    "\n",
    "from sklearn.ensemble import RandomForestRegressor\n",
    "import xgboost as xgb\n",
    "from sklearn.metrics import mean_absolute_error, mean_squared_error, r2_score\n",
    "from sklearn.multioutput import MultiOutputRegressor\n",
    "from sklearn.linear_model import Ridge\n",
    "import lightgbm as lgb\n",
    "from catboost import CatBoostRegressor"
   ]
  },
  {
   "cell_type": "code",
   "execution_count": 5,
   "id": "b0967356-bc89-4a54-83bd-bfb6796c2f2b",
   "metadata": {},
   "outputs": [
    {
     "data": {
      "text/html": [
       "<div>\n",
       "<style scoped>\n",
       "    .dataframe tbody tr th:only-of-type {\n",
       "        vertical-align: middle;\n",
       "    }\n",
       "\n",
       "    .dataframe tbody tr th {\n",
       "        vertical-align: top;\n",
       "    }\n",
       "\n",
       "    .dataframe thead th {\n",
       "        text-align: right;\n",
       "    }\n",
       "</style>\n",
       "<table border=\"1\" class=\"dataframe\">\n",
       "  <thead>\n",
       "    <tr style=\"text-align: right;\">\n",
       "      <th></th>\n",
       "      <th>Country</th>\n",
       "      <th>Region</th>\n",
       "      <th>Year</th>\n",
       "      <th>Water Source Type</th>\n",
       "      <th>Contaminant Level (ppm)</th>\n",
       "      <th>pH Level</th>\n",
       "      <th>Turbidity (NTU)</th>\n",
       "      <th>Dissolved Oxygen (mg/L)</th>\n",
       "      <th>Nitrate Level (mg/L)</th>\n",
       "      <th>Lead Concentration (µg/L)</th>\n",
       "      <th>...</th>\n",
       "      <th>Cholera Cases per 100,000 people</th>\n",
       "      <th>Typhoid Cases per 100,000 people</th>\n",
       "      <th>Infant Mortality Rate (per 1,000 live births)</th>\n",
       "      <th>GDP per Capita (USD)</th>\n",
       "      <th>Healthcare Access Index (0-100)</th>\n",
       "      <th>Urbanization Rate (%)</th>\n",
       "      <th>Sanitation Coverage (% of Population)</th>\n",
       "      <th>Rainfall (mm per year)</th>\n",
       "      <th>Temperature (°C)</th>\n",
       "      <th>Population Density (people per km²)</th>\n",
       "    </tr>\n",
       "  </thead>\n",
       "  <tbody>\n",
       "    <tr>\n",
       "      <th>0</th>\n",
       "      <td>Mexico</td>\n",
       "      <td>North</td>\n",
       "      <td>2015</td>\n",
       "      <td>Lake</td>\n",
       "      <td>6.06</td>\n",
       "      <td>7.12</td>\n",
       "      <td>3.93</td>\n",
       "      <td>4.28</td>\n",
       "      <td>8.28</td>\n",
       "      <td>7.89</td>\n",
       "      <td>...</td>\n",
       "      <td>33</td>\n",
       "      <td>44</td>\n",
       "      <td>76.16</td>\n",
       "      <td>57057</td>\n",
       "      <td>96.92</td>\n",
       "      <td>84.61</td>\n",
       "      <td>63.23</td>\n",
       "      <td>2800</td>\n",
       "      <td>4.94</td>\n",
       "      <td>593</td>\n",
       "    </tr>\n",
       "    <tr>\n",
       "      <th>1</th>\n",
       "      <td>Brazil</td>\n",
       "      <td>West</td>\n",
       "      <td>2017</td>\n",
       "      <td>Well</td>\n",
       "      <td>5.24</td>\n",
       "      <td>7.84</td>\n",
       "      <td>4.79</td>\n",
       "      <td>3.86</td>\n",
       "      <td>15.74</td>\n",
       "      <td>14.68</td>\n",
       "      <td>...</td>\n",
       "      <td>27</td>\n",
       "      <td>8</td>\n",
       "      <td>77.30</td>\n",
       "      <td>17220</td>\n",
       "      <td>84.73</td>\n",
       "      <td>73.37</td>\n",
       "      <td>29.12</td>\n",
       "      <td>1572</td>\n",
       "      <td>16.93</td>\n",
       "      <td>234</td>\n",
       "    </tr>\n",
       "    <tr>\n",
       "      <th>2</th>\n",
       "      <td>Indonesia</td>\n",
       "      <td>Central</td>\n",
       "      <td>2022</td>\n",
       "      <td>Pond</td>\n",
       "      <td>0.24</td>\n",
       "      <td>6.43</td>\n",
       "      <td>0.79</td>\n",
       "      <td>3.42</td>\n",
       "      <td>36.67</td>\n",
       "      <td>9.96</td>\n",
       "      <td>...</td>\n",
       "      <td>39</td>\n",
       "      <td>50</td>\n",
       "      <td>48.45</td>\n",
       "      <td>86022</td>\n",
       "      <td>58.37</td>\n",
       "      <td>72.86</td>\n",
       "      <td>93.56</td>\n",
       "      <td>2074</td>\n",
       "      <td>21.73</td>\n",
       "      <td>57</td>\n",
       "    </tr>\n",
       "    <tr>\n",
       "      <th>3</th>\n",
       "      <td>Nigeria</td>\n",
       "      <td>East</td>\n",
       "      <td>2016</td>\n",
       "      <td>Well</td>\n",
       "      <td>7.91</td>\n",
       "      <td>6.71</td>\n",
       "      <td>1.96</td>\n",
       "      <td>3.12</td>\n",
       "      <td>36.92</td>\n",
       "      <td>6.77</td>\n",
       "      <td>...</td>\n",
       "      <td>33</td>\n",
       "      <td>13</td>\n",
       "      <td>95.66</td>\n",
       "      <td>31166</td>\n",
       "      <td>39.07</td>\n",
       "      <td>71.07</td>\n",
       "      <td>94.25</td>\n",
       "      <td>937</td>\n",
       "      <td>3.79</td>\n",
       "      <td>555</td>\n",
       "    </tr>\n",
       "    <tr>\n",
       "      <th>4</th>\n",
       "      <td>Mexico</td>\n",
       "      <td>South</td>\n",
       "      <td>2005</td>\n",
       "      <td>Well</td>\n",
       "      <td>0.12</td>\n",
       "      <td>8.16</td>\n",
       "      <td>4.22</td>\n",
       "      <td>9.15</td>\n",
       "      <td>49.35</td>\n",
       "      <td>12.51</td>\n",
       "      <td>...</td>\n",
       "      <td>31</td>\n",
       "      <td>68</td>\n",
       "      <td>58.78</td>\n",
       "      <td>25661</td>\n",
       "      <td>23.03</td>\n",
       "      <td>55.55</td>\n",
       "      <td>69.23</td>\n",
       "      <td>2295</td>\n",
       "      <td>31.44</td>\n",
       "      <td>414</td>\n",
       "    </tr>\n",
       "  </tbody>\n",
       "</table>\n",
       "<p>5 rows × 24 columns</p>\n",
       "</div>"
      ],
      "text/plain": [
       "     Country   Region  Year Water Source Type  Contaminant Level (ppm)  \\\n",
       "0     Mexico    North  2015              Lake                     6.06   \n",
       "1     Brazil     West  2017              Well                     5.24   \n",
       "2  Indonesia  Central  2022              Pond                     0.24   \n",
       "3    Nigeria     East  2016              Well                     7.91   \n",
       "4     Mexico    South  2005              Well                     0.12   \n",
       "\n",
       "   pH Level  Turbidity (NTU)  Dissolved Oxygen (mg/L)  Nitrate Level (mg/L)  \\\n",
       "0      7.12             3.93                     4.28                  8.28   \n",
       "1      7.84             4.79                     3.86                 15.74   \n",
       "2      6.43             0.79                     3.42                 36.67   \n",
       "3      6.71             1.96                     3.12                 36.92   \n",
       "4      8.16             4.22                     9.15                 49.35   \n",
       "\n",
       "   Lead Concentration (µg/L)  ...  Cholera Cases per 100,000 people  \\\n",
       "0                       7.89  ...                                33   \n",
       "1                      14.68  ...                                27   \n",
       "2                       9.96  ...                                39   \n",
       "3                       6.77  ...                                33   \n",
       "4                      12.51  ...                                31   \n",
       "\n",
       "  Typhoid Cases per 100,000 people  \\\n",
       "0                               44   \n",
       "1                                8   \n",
       "2                               50   \n",
       "3                               13   \n",
       "4                               68   \n",
       "\n",
       "   Infant Mortality Rate (per 1,000 live births)  GDP per Capita (USD)  \\\n",
       "0                                          76.16                 57057   \n",
       "1                                          77.30                 17220   \n",
       "2                                          48.45                 86022   \n",
       "3                                          95.66                 31166   \n",
       "4                                          58.78                 25661   \n",
       "\n",
       "   Healthcare Access Index (0-100)  Urbanization Rate (%)  \\\n",
       "0                            96.92                  84.61   \n",
       "1                            84.73                  73.37   \n",
       "2                            58.37                  72.86   \n",
       "3                            39.07                  71.07   \n",
       "4                            23.03                  55.55   \n",
       "\n",
       "   Sanitation Coverage (% of Population)  Rainfall (mm per year)  \\\n",
       "0                                  63.23                    2800   \n",
       "1                                  29.12                    1572   \n",
       "2                                  93.56                    2074   \n",
       "3                                  94.25                     937   \n",
       "4                                  69.23                    2295   \n",
       "\n",
       "   Temperature (°C)  Population Density (people per km²)  \n",
       "0              4.94                                  593  \n",
       "1             16.93                                  234  \n",
       "2             21.73                                   57  \n",
       "3              3.79                                  555  \n",
       "4             31.44                                  414  \n",
       "\n",
       "[5 rows x 24 columns]"
      ]
     },
     "execution_count": 5,
     "metadata": {},
     "output_type": "execute_result"
    }
   ],
   "source": [
    "# load in dataset\n",
    "df_base = pd.read_csv('df_baseline.csv')  \n",
    "\n",
    "df_base.head()"
   ]
  },
  {
   "cell_type": "code",
   "execution_count": 7,
   "id": "f8b96b18-0e62-425a-b9ed-dab8fff6aa55",
   "metadata": {},
   "outputs": [
    {
     "data": {
      "text/plain": [
       "Country                                           object\n",
       "Region                                            object\n",
       "Year                                               int64\n",
       "Water Source Type                                 object\n",
       "Contaminant Level (ppm)                          float64\n",
       "pH Level                                         float64\n",
       "Turbidity (NTU)                                  float64\n",
       "Dissolved Oxygen (mg/L)                          float64\n",
       "Nitrate Level (mg/L)                             float64\n",
       "Lead Concentration (µg/L)                        float64\n",
       "Bacteria Count (CFU/mL)                            int64\n",
       "Water Treatment Method                            object\n",
       "Access to Clean Water (% of Population)          float64\n",
       "Diarrheal Cases per 100,000 people                 int64\n",
       "Cholera Cases per 100,000 people                   int64\n",
       "Typhoid Cases per 100,000 people                   int64\n",
       "Infant Mortality Rate (per 1,000 live births)    float64\n",
       "GDP per Capita (USD)                               int64\n",
       "Healthcare Access Index (0-100)                  float64\n",
       "Urbanization Rate (%)                            float64\n",
       "Sanitation Coverage (% of Population)            float64\n",
       "Rainfall (mm per year)                             int64\n",
       "Temperature (°C)                                 float64\n",
       "Population Density (people per km²)                int64\n",
       "dtype: object"
      ]
     },
     "execution_count": 7,
     "metadata": {},
     "output_type": "execute_result"
    }
   ],
   "source": [
    "# check datatypes\n",
    "df_base.dtypes"
   ]
  },
  {
   "cell_type": "code",
   "execution_count": 9,
   "id": "a9a33051-a7f7-46b0-97f4-3a13c7b8dda9",
   "metadata": {},
   "outputs": [
    {
     "name": "stdout",
     "output_type": "stream",
     "text": [
      "Number of duplicate rows: 0\n"
     ]
    }
   ],
   "source": [
    "# checking for duplicate rows\n",
    "num_duplicates = df_base.duplicated().sum()\n",
    "\n",
    "print(f\"Number of duplicate rows: {num_duplicates}\")"
   ]
  },
  {
   "cell_type": "markdown",
   "id": "1bf13e89-3d07-4c8e-8c0d-21f569374a5c",
   "metadata": {},
   "source": [
    "-------\n",
    "#### Base models (Random Forest Regressor & XGBoost)"
   ]
  },
  {
   "cell_type": "code",
   "execution_count": 12,
   "id": "ce6ff92f-a64a-4a55-b761-4a7ce8709a24",
   "metadata": {},
   "outputs": [
    {
     "name": "stdout",
     "output_type": "stream",
     "text": [
      "Categorical Features: ['Country', 'Region', 'Water Source Type', 'Water Treatment Method']\n",
      "\n",
      "\n",
      "Numerical Features: ['Contaminant Level (ppm)', 'pH Level', 'Turbidity (NTU)', 'Dissolved Oxygen (mg/L)', 'Nitrate Level (mg/L)', 'Lead Concentration (µg/L)', 'Bacteria Count (CFU/mL)', 'Access to Clean Water (% of Population)', 'Infant Mortality Rate (per 1,000 live births)', 'GDP per Capita (USD)', 'Healthcare Access Index (0-100)', 'Urbanization Rate (%)', 'Sanitation Coverage (% of Population)', 'Rainfall (mm per year)', 'Temperature (°C)', 'Population Density (people per km²)']\n"
     ]
    }
   ],
   "source": [
    "# target cols\n",
    "target_cols = [\n",
    "    'Diarrheal Cases per 100,000 people',\n",
    "    'Cholera Cases per 100,000 people',\n",
    "    'Typhoid Cases per 100,000 people'\n",
    "]\n",
    "\n",
    "# categorical and numerical features\n",
    "cat_cols = ['Country', 'Region', 'Water Source Type', 'Water Treatment Method']\n",
    "num_cols = [col for col in df_base.columns if col not in cat_cols + target_cols + ['Year']]\n",
    "\n",
    "print(\"Categorical Features:\", cat_cols)\n",
    "print(\"\\n\\nNumerical Features:\", num_cols)"
   ]
  },
  {
   "cell_type": "code",
   "execution_count": 14,
   "id": "4776e5e0-37b9-43a9-bc84-1b4bf36556d4",
   "metadata": {},
   "outputs": [
    {
     "name": "stdout",
     "output_type": "stream",
     "text": [
      "(3000, 20)\n",
      "(3000, 3)\n"
     ]
    }
   ],
   "source": [
    "# try a basline model \n",
    "\n",
    "X = df_base[cat_cols + num_cols]\n",
    "y = df_base[target_cols]\n",
    "\n",
    "print(X.shape)\n",
    "print(y.shape)"
   ]
  },
  {
   "cell_type": "code",
   "execution_count": 16,
   "id": "bd86a53a-7812-4a42-a1de-3f26dda6986e",
   "metadata": {},
   "outputs": [
    {
     "name": "stdout",
     "output_type": "stream",
     "text": [
      "Train Shape: (2400, 20)\n",
      "Test Shape: (600, 20)\n"
     ]
    }
   ],
   "source": [
    "# train/split\n",
    "X_train, X_test, y_train, y_test = train_test_split(\n",
    "    X, y, test_size=0.2, random_state=42\n",
    ")\n",
    "\n",
    "print(\"Train Shape:\", X_train.shape)\n",
    "print(\"Test Shape:\", X_test.shape)"
   ]
  },
  {
   "cell_type": "code",
   "execution_count": 18,
   "id": "3b47496c-b165-4ca9-abef-d33c9348da99",
   "metadata": {},
   "outputs": [
    {
     "name": "stdout",
     "output_type": "stream",
     "text": [
      "Processed Train Shape: (2400, 41)\n",
      "Processed Test Shape: (600, 41)\n"
     ]
    }
   ],
   "source": [
    "# one hot encoding\n",
    "categorical_transformer = OneHotEncoder(handle_unknown='ignore', sparse_output=False)\n",
    "\n",
    "# define ColumnTransformer\n",
    "preprocessor = ColumnTransformer(\n",
    "    transformers=[\n",
    "        ('cat', categorical_transformer, cat_cols)\n",
    "    ],\n",
    "    remainder='passthrough'  # keeps numl cols as it is\n",
    ")\n",
    "\n",
    "# fit on training data\n",
    "preprocessor.fit(X_train)\n",
    "\n",
    "# transform both train and test\n",
    "X_train_processed = preprocessor.transform(X_train)\n",
    "X_test_processed = preprocessor.transform(X_test)\n",
    "\n",
    "print(\"Processed Train Shape:\", X_train_processed.shape)\n",
    "print(\"Processed Test Shape:\", X_test_processed.shape)"
   ]
  },
  {
   "cell_type": "code",
   "execution_count": 20,
   "id": "8dbee545-71b2-4c33-a9db-4c720036d4cf",
   "metadata": {},
   "outputs": [
    {
     "data": {
      "text/plain": [
       "array(['cat__Country_Bangladesh', 'cat__Country_Brazil',\n",
       "       'cat__Country_China', 'cat__Country_Ethiopia',\n",
       "       'cat__Country_India', 'cat__Country_Indonesia',\n",
       "       'cat__Country_Mexico', 'cat__Country_Nigeria',\n",
       "       'cat__Country_Pakistan', 'cat__Country_USA', 'cat__Region_Central',\n",
       "       'cat__Region_East', 'cat__Region_North', 'cat__Region_South',\n",
       "       'cat__Region_West', 'cat__Water Source Type_Lake',\n",
       "       'cat__Water Source Type_Pond', 'cat__Water Source Type_River',\n",
       "       'cat__Water Source Type_Spring', 'cat__Water Source Type_Tap',\n",
       "       'cat__Water Source Type_Well',\n",
       "       'cat__Water Treatment Method_Boiling',\n",
       "       'cat__Water Treatment Method_Chlorination',\n",
       "       'cat__Water Treatment Method_Filtration',\n",
       "       'cat__Water Treatment Method_Unknown',\n",
       "       'remainder__Contaminant Level (ppm)', 'remainder__pH Level',\n",
       "       'remainder__Turbidity (NTU)', 'remainder__Dissolved Oxygen (mg/L)',\n",
       "       'remainder__Nitrate Level (mg/L)',\n",
       "       'remainder__Lead Concentration (µg/L)',\n",
       "       'remainder__Bacteria Count (CFU/mL)',\n",
       "       'remainder__Access to Clean Water (% of Population)',\n",
       "       'remainder__Infant Mortality Rate (per 1,000 live births)',\n",
       "       'remainder__GDP per Capita (USD)',\n",
       "       'remainder__Healthcare Access Index (0-100)',\n",
       "       'remainder__Urbanization Rate (%)',\n",
       "       'remainder__Sanitation Coverage (% of Population)',\n",
       "       'remainder__Rainfall (mm per year)', 'remainder__Temperature (°C)',\n",
       "       'remainder__Population Density (people per km²)'], dtype=object)"
      ]
     },
     "execution_count": 20,
     "metadata": {},
     "output_type": "execute_result"
    }
   ],
   "source": [
    "# check feature names\n",
    "encoded_feature_names = preprocessor.get_feature_names_out()\n",
    "encoded_feature_names"
   ]
  },
  {
   "cell_type": "code",
   "execution_count": 22,
   "id": "2571f705-8fce-44c2-86bd-bf90ba28575e",
   "metadata": {},
   "outputs": [
    {
     "name": "stdout",
     "output_type": "stream",
     "text": [
      "\n",
      "=== Training model for: Diarrheal Cases per 100,000 people ===\n",
      "MAE:  129.37\n",
      "RMSE: 148.68\n",
      "R²:   -0.040\n",
      "\n",
      "=== Training model for: Cholera Cases per 100,000 people ===\n",
      "MAE:  12.58\n",
      "RMSE: 14.59\n",
      "R²:   -0.035\n",
      "\n",
      "=== Training model for: Typhoid Cases per 100,000 people ===\n",
      "MAE:  25.36\n",
      "RMSE: 29.22\n",
      "R²:   -0.017\n"
     ]
    }
   ],
   "source": [
    "# base random forest regressor\n",
    "\n",
    "# to store models and results\n",
    "base_rfr = {}\n",
    "base_rfr_results = {}\n",
    "\n",
    "# gothrough ea. target\n",
    "for target in y_train.columns:\n",
    "    print(f\"\\n=== Training model for: {target} ===\")\n",
    "    \n",
    "    # train model\n",
    "    model = RandomForestRegressor(n_estimators=100, random_state=42)\n",
    "    model.fit(X_train_processed, y_train[target])\n",
    "    \n",
    "    # predit\n",
    "    y_pred = model.predict(X_test_processed)\n",
    "    \n",
    "    # metrics\n",
    "    mae = mean_absolute_error(y_test[target], y_pred)\n",
    "    rmse = np.sqrt(mean_squared_error(y_test[target], y_pred))\n",
    "    r2 = r2_score(y_test[target], y_pred)\n",
    "    \n",
    "    # scores\n",
    "    print(f\"MAE:  {mae:.2f}\")\n",
    "    print(f\"RMSE: {rmse:.2f}\")\n",
    "    print(f\"R²:   {r2:.3f}\")\n",
    "    \n",
    "    # store model and results\n",
    "    base_rfr[target] = model\n",
    "    base_rfr_results[target] = {'MAE': mae, '\\nRMSE': rmse, '\\nR2': r2}"
   ]
  },
  {
   "cell_type": "code",
   "execution_count": 24,
   "id": "8fd3b362-fabc-492d-acea-353bb517cf89",
   "metadata": {},
   "outputs": [
    {
     "data": {
      "text/html": [
       "<div>\n",
       "<style scoped>\n",
       "    .dataframe tbody tr th:only-of-type {\n",
       "        vertical-align: middle;\n",
       "    }\n",
       "\n",
       "    .dataframe tbody tr th {\n",
       "        vertical-align: top;\n",
       "    }\n",
       "\n",
       "    .dataframe thead th {\n",
       "        text-align: right;\n",
       "    }\n",
       "</style>\n",
       "<table border=\"1\" class=\"dataframe\">\n",
       "  <thead>\n",
       "    <tr style=\"text-align: right;\">\n",
       "      <th></th>\n",
       "      <th>MAE</th>\n",
       "      <th>\\nRMSE</th>\n",
       "      <th>\\nR2</th>\n",
       "    </tr>\n",
       "  </thead>\n",
       "  <tbody>\n",
       "    <tr>\n",
       "      <th>Diarrheal Cases per 100,000 people</th>\n",
       "      <td>129.370100</td>\n",
       "      <td>148.676050</td>\n",
       "      <td>-0.039980</td>\n",
       "    </tr>\n",
       "    <tr>\n",
       "      <th>Cholera Cases per 100,000 people</th>\n",
       "      <td>12.575867</td>\n",
       "      <td>14.593917</td>\n",
       "      <td>-0.034562</td>\n",
       "    </tr>\n",
       "    <tr>\n",
       "      <th>Typhoid Cases per 100,000 people</th>\n",
       "      <td>25.362633</td>\n",
       "      <td>29.219737</td>\n",
       "      <td>-0.017304</td>\n",
       "    </tr>\n",
       "  </tbody>\n",
       "</table>\n",
       "</div>"
      ],
      "text/plain": [
       "                                           MAE      \\nRMSE      \\nR2\n",
       "Diarrheal Cases per 100,000 people  129.370100  148.676050 -0.039980\n",
       "Cholera Cases per 100,000 people     12.575867   14.593917 -0.034562\n",
       "Typhoid Cases per 100,000 people     25.362633   29.219737 -0.017304"
      ]
     },
     "execution_count": 24,
     "metadata": {},
     "output_type": "execute_result"
    }
   ],
   "source": [
    "pd.DataFrame(base_rfr_results).T"
   ]
  },
  {
   "cell_type": "markdown",
   "id": "21461561-2c5c-4374-b1d5-0944d72c3dbf",
   "metadata": {},
   "source": [
    "Notes:\n",
    "- All have negative R^2, indicating they perform worse than simply predicting the mean\n",
    "- The errors (MAE, RMSE) values are high relative to the scale of each target (129 for diarrheal vs. 12–25 for the other diseases), suggesting large absolute prediction errors\n",
    "- Results at the moment poor predictive power and indicate the need for better feature engineering and model tuning\n",
    "----"
   ]
  },
  {
   "cell_type": "code",
   "execution_count": 27,
   "id": "7e7520e5-d51a-41ec-ba7c-77db340d29ae",
   "metadata": {},
   "outputs": [
    {
     "name": "stdout",
     "output_type": "stream",
     "text": [
      "\n",
      "=== Top 10 Features for: Diarrheal Cases per 100,000 people ===\n",
      "remainder__Rainfall (mm per year): 0.0610\n",
      "remainder__Contaminant Level (ppm): 0.0605\n",
      "remainder__Nitrate Level (mg/L): 0.0580\n",
      "remainder__Bacteria Count (CFU/mL): 0.0576\n",
      "remainder__Urbanization Rate (%): 0.0568\n",
      "remainder__Healthcare Access Index (0-100): 0.0563\n",
      "remainder__Sanitation Coverage (% of Population): 0.0562\n",
      "remainder__Population Density (people per km²): 0.0548\n",
      "remainder__Dissolved Oxygen (mg/L): 0.0547\n",
      "remainder__Turbidity (NTU): 0.0545\n",
      "\n",
      "=== Top 10 Features for: Cholera Cases per 100,000 people ===\n",
      "remainder__Nitrate Level (mg/L): 0.0593\n",
      "remainder__Infant Mortality Rate (per 1,000 live births): 0.0589\n",
      "remainder__Contaminant Level (ppm): 0.0586\n",
      "remainder__Turbidity (NTU): 0.0578\n",
      "remainder__GDP per Capita (USD): 0.0569\n",
      "remainder__Lead Concentration (µg/L): 0.0568\n",
      "remainder__Healthcare Access Index (0-100): 0.0565\n",
      "remainder__Urbanization Rate (%): 0.0563\n",
      "remainder__Dissolved Oxygen (mg/L): 0.0555\n",
      "remainder__Temperature (°C): 0.0544\n",
      "\n",
      "=== Top 10 Features for: Typhoid Cases per 100,000 people ===\n",
      "remainder__Nitrate Level (mg/L): 0.0599\n",
      "remainder__Healthcare Access Index (0-100): 0.0587\n",
      "remainder__Dissolved Oxygen (mg/L): 0.0585\n",
      "remainder__Access to Clean Water (% of Population): 0.0578\n",
      "remainder__Population Density (people per km²): 0.0576\n",
      "remainder__Sanitation Coverage (% of Population): 0.0568\n",
      "remainder__Contaminant Level (ppm): 0.0566\n",
      "remainder__Lead Concentration (µg/L): 0.0554\n",
      "remainder__GDP per Capita (USD): 0.0544\n",
      "remainder__Urbanization Rate (%): 0.0543\n"
     ]
    }
   ],
   "source": [
    "# loop to print top 10 features for all 3 diseases\n",
    "feature_names = preprocessor.get_feature_names_out()\n",
    "\n",
    "for target in base_rfr.keys():\n",
    "    print(f\"\\n=== Top 10 Features for: {target} ===\")\n",
    "    \n",
    "    model = base_rfr[target]\n",
    "    \n",
    "    # feature importances as an array\n",
    "    importances = model.feature_importances_\n",
    "    \n",
    "    # zip with feature names\n",
    "    importance_list = list(zip(feature_names, importances))\n",
    "    \n",
    "    # descending order \n",
    "    importance_list_sorted = sorted(importance_list, key=lambda x: x[1], reverse=True)\n",
    "    \n",
    "    for feature, importance in importance_list_sorted[:10]:\n",
    "        print(f\"{feature}: {importance:.4f}\")"
   ]
  },
  {
   "cell_type": "markdown",
   "id": "2b6a9b89-6efe-42b6-b357-462a8234942c",
   "metadata": {},
   "source": [
    "Notes:\n",
    "- Water quality and socioeconomic variables (Nitrate, Contaminant Level, Healthcare Access, GDP) show consistent importance across diseases\n",
    "- Theres no dominant predictor: importance values are close (5–6%)\n",
    "----"
   ]
  },
  {
   "cell_type": "code",
   "execution_count": 30,
   "id": "dec28519-fe46-4ab2-90bc-7aee5acd7cd9",
   "metadata": {},
   "outputs": [
    {
     "name": "stdout",
     "output_type": "stream",
     "text": [
      "\n",
      "=== Training XGBoost for: Diarrheal Cases per 100,000 people ===\n",
      "MAE:  133.28\n",
      "RMSE: 158.70\n",
      "R²:   -0.185\n",
      "\n",
      "=== Training XGBoost for: Cholera Cases per 100,000 people ===\n",
      "MAE:  13.21\n",
      "RMSE: 15.66\n",
      "R²:   -0.191\n",
      "\n",
      "=== Training XGBoost for: Typhoid Cases per 100,000 people ===\n",
      "MAE:  27.98\n",
      "RMSE: 32.53\n",
      "R²:   -0.261\n"
     ]
    }
   ],
   "source": [
    "# base xgb\n",
    "xgb_base = {}\n",
    "base_xgb_results = {}\n",
    "\n",
    "for target in y_train.columns:\n",
    "    print(f\"\\n=== Training XGBoost for: {target} ===\")\n",
    "    \n",
    "    model = xgb.XGBRegressor(n_estimators=100, random_state=42)\n",
    "    model.fit(X_train_processed, y_train[target])\n",
    "    \n",
    "    y_pred = model.predict(X_test_processed)\n",
    "    \n",
    "    mae = mean_absolute_error(y_test[target], y_pred)\n",
    "    rmse = np.sqrt(mean_squared_error(y_test[target], y_pred))\n",
    "    r2 = r2_score(y_test[target], y_pred)\n",
    "    \n",
    "    print(f\"MAE:  {mae:.2f}\")\n",
    "    print(f\"RMSE: {rmse:.2f}\")\n",
    "    print(f\"R²:   {r2:.3f}\")\n",
    "    \n",
    "    xgb_base[target] = model\n",
    "    base_xgb_results[target] = {'MAE': mae, 'RMSE': rmse, 'R2': r2}"
   ]
  },
  {
   "cell_type": "code",
   "execution_count": 32,
   "id": "d21e31d5-0316-4e84-ab0e-e57eedf5c4a9",
   "metadata": {},
   "outputs": [
    {
     "data": {
      "text/html": [
       "<div>\n",
       "<style scoped>\n",
       "    .dataframe tbody tr th:only-of-type {\n",
       "        vertical-align: middle;\n",
       "    }\n",
       "\n",
       "    .dataframe tbody tr th {\n",
       "        vertical-align: top;\n",
       "    }\n",
       "\n",
       "    .dataframe thead th {\n",
       "        text-align: right;\n",
       "    }\n",
       "</style>\n",
       "<table border=\"1\" class=\"dataframe\">\n",
       "  <thead>\n",
       "    <tr style=\"text-align: right;\">\n",
       "      <th></th>\n",
       "      <th>MAE</th>\n",
       "      <th>RMSE</th>\n",
       "      <th>R2</th>\n",
       "    </tr>\n",
       "  </thead>\n",
       "  <tbody>\n",
       "    <tr>\n",
       "      <th>Diarrheal Cases per 100,000 people</th>\n",
       "      <td>133.280441</td>\n",
       "      <td>158.698115</td>\n",
       "      <td>-0.184913</td>\n",
       "    </tr>\n",
       "    <tr>\n",
       "      <th>Cholera Cases per 100,000 people</th>\n",
       "      <td>13.208580</td>\n",
       "      <td>15.656380</td>\n",
       "      <td>-0.190681</td>\n",
       "    </tr>\n",
       "    <tr>\n",
       "      <th>Typhoid Cases per 100,000 people</th>\n",
       "      <td>27.980326</td>\n",
       "      <td>32.529045</td>\n",
       "      <td>-0.260785</td>\n",
       "    </tr>\n",
       "  </tbody>\n",
       "</table>\n",
       "</div>"
      ],
      "text/plain": [
       "                                           MAE        RMSE        R2\n",
       "Diarrheal Cases per 100,000 people  133.280441  158.698115 -0.184913\n",
       "Cholera Cases per 100,000 people     13.208580   15.656380 -0.190681\n",
       "Typhoid Cases per 100,000 people     27.980326   32.529045 -0.260785"
      ]
     },
     "execution_count": 32,
     "metadata": {},
     "output_type": "execute_result"
    }
   ],
   "source": [
    "pd.DataFrame(base_xgb_results).T"
   ]
  },
  {
   "cell_type": "code",
   "execution_count": 34,
   "id": "611154dd-981b-47d2-8a02-cbc708dd92bc",
   "metadata": {},
   "outputs": [
    {
     "name": "stdout",
     "output_type": "stream",
     "text": [
      "\n",
      "=== Top 10 Features for: Diarrheal Cases per 100,000 people ===\n",
      "remainder__Bacteria Count (CFU/mL): 0.0419\n",
      "cat__Water Treatment Method_Chlorination: 0.0406\n",
      "remainder__Rainfall (mm per year): 0.0405\n",
      "remainder__Healthcare Access Index (0-100): 0.0373\n",
      "remainder__Sanitation Coverage (% of Population): 0.0371\n",
      "remainder__Infant Mortality Rate (per 1,000 live births): 0.0368\n",
      "remainder__Nitrate Level (mg/L): 0.0366\n",
      "remainder__Dissolved Oxygen (mg/L): 0.0365\n",
      "remainder__Access to Clean Water (% of Population): 0.0365\n",
      "remainder__Turbidity (NTU): 0.0356\n",
      "\n",
      "=== Top 10 Features for: Cholera Cases per 100,000 people ===\n",
      "remainder__Turbidity (NTU): 0.0413\n",
      "remainder__Dissolved Oxygen (mg/L): 0.0400\n",
      "remainder__Population Density (people per km²): 0.0400\n",
      "remainder__Infant Mortality Rate (per 1,000 live births): 0.0393\n",
      "remainder__Rainfall (mm per year): 0.0382\n",
      "remainder__Urbanization Rate (%): 0.0376\n",
      "remainder__Healthcare Access Index (0-100): 0.0374\n",
      "remainder__pH Level: 0.0369\n",
      "remainder__Access to Clean Water (% of Population): 0.0360\n",
      "remainder__Temperature (°C): 0.0359\n",
      "\n",
      "=== Top 10 Features for: Typhoid Cases per 100,000 people ===\n",
      "cat__Water Source Type_Pond: 0.0383\n",
      "remainder__Sanitation Coverage (% of Population): 0.0376\n",
      "remainder__Bacteria Count (CFU/mL): 0.0374\n",
      "remainder__Lead Concentration (µg/L): 0.0373\n",
      "remainder__GDP per Capita (USD): 0.0356\n",
      "remainder__Rainfall (mm per year): 0.0344\n",
      "remainder__Access to Clean Water (% of Population): 0.0342\n",
      "remainder__Infant Mortality Rate (per 1,000 live births): 0.0341\n",
      "remainder__Temperature (°C): 0.0338\n",
      "remainder__Nitrate Level (mg/L): 0.0335\n"
     ]
    }
   ],
   "source": [
    "# loop to print top 10 features for all 3 diseases\n",
    "feature_names = preprocessor.get_feature_names_out()\n",
    "\n",
    "for target in xgb_base.keys():\n",
    "    print(f\"\\n=== Top 10 Features for: {target} ===\")\n",
    "    \n",
    "    model = xgb_base[target]\n",
    "    \n",
    "    # feature importances as an array\n",
    "    importances = model.feature_importances_\n",
    "    \n",
    "    # zip with feature names\n",
    "    importance_list = list(zip(feature_names, importances))\n",
    "    \n",
    "    # descending order \n",
    "    importance_list_sorted = sorted(importance_list, key=lambda x: x[1], reverse=True)\n",
    "    \n",
    "    for feature, importance in importance_list_sorted[:10]:\n",
    "        print(f\"{feature}: {importance:.4f}\")"
   ]
  },
  {
   "cell_type": "markdown",
   "id": "18cd0d9a-d482-4237-95b6-793cc8773889",
   "metadata": {},
   "source": [
    "Notes:\n",
    "- Performance still poor (all R^2 < 0)with XGBoost. The model can't explain variance well.\n",
    "- Feature importance is spread out, top features like Bacteria Count, Water Treatment, Rainfall account for only about 4%, indicating no strong single driver\n",
    "- Categorical splits show some value (Water Treatment types, Regions), but overall signal is **fragmented and subtle**\n",
    "\n",
    "----\n",
    "\n",
    "#### Trying some Hyperparameter Tuning\n",
    "- Focusing on tuning XGBoost because it’s more likely to improve results and uncover hidden patterns in this dataset"
   ]
  },
  {
   "cell_type": "code",
   "execution_count": 37,
   "id": "a6f88800-f9ee-463e-856b-7a785f248580",
   "metadata": {},
   "outputs": [
    {
     "name": "stdout",
     "output_type": "stream",
     "text": [
      "Fitting 3 folds for each of 10 candidates, totalling 30 fits\n",
      "Best params: {'subsample': 0.6, 'n_estimators': 100, 'max_depth': 7, 'learning_rate': 0.01}\n",
      "Best score (neg MAE): -124.33983866373698\n"
     ]
    }
   ],
   "source": [
    "param_grid = {\n",
    "    'n_estimators': [100, 200, 300],\n",
    "    'max_depth': [3, 5, 7, 10],\n",
    "    'learning_rate': [0.01, 0.05, 0.1, 0.2],\n",
    "    'subsample': [0.6, 0.8, 1.0],\n",
    "}\n",
    "\n",
    "xgb_base_reg = xgb.XGBRegressor(random_state=42)\n",
    "\n",
    "search = RandomizedSearchCV(\n",
    "    estimator=xgb_base_reg,\n",
    "    param_distributions=param_grid,\n",
    "    n_iter=10,\n",
    "    scoring='neg_mean_absolute_error',\n",
    "    cv=3,\n",
    "    verbose=2,\n",
    "    random_state=42,\n",
    "    n_jobs=-1\n",
    ")\n",
    "\n",
    "search.fit(X_train_processed, y_train['Diarrheal Cases per 100,000 people'])\n",
    "\n",
    "print(\"Best params:\", search.best_params_)\n",
    "print(\"Best score (neg MAE):\", search.best_score_)"
   ]
  },
  {
   "cell_type": "markdown",
   "id": "f531959b-2bad-47fc-a036-d53b344af95b",
   "metadata": {},
   "source": [
    "Notes: \n",
    "- very low learning rate (0.01)\n",
    "-----"
   ]
  },
  {
   "cell_type": "markdown",
   "id": "deb264dd-29f0-4709-b45e-ff2fff009db8",
   "metadata": {},
   "source": [
    "#### Multi-output Regression with XGBoost\n",
    "Instead of training separate models for each disease, multi-output regression can use one model to predict all outcomes at once. This method can find shared patterns between the diseases (like areas with high diarrheal rates also having higher cholera rates). It can boost performance when targets are related, even slightly."
   ]
  },
  {
   "cell_type": "code",
   "execution_count": 41,
   "id": "ddba0538-8952-44fc-98cb-94fa079d5a4c",
   "metadata": {},
   "outputs": [
    {
     "name": "stdout",
     "output_type": "stream",
     "text": [
      "\n",
      "=== Diarrheal Cases per 100,000 people ===\n",
      "MAE:  127.91\n",
      "RMSE: 146.71\n",
      "R²:   -0.013\n",
      "\n",
      "=== Cholera Cases per 100,000 people ===\n",
      "MAE:  12.39\n",
      "RMSE: 14.37\n",
      "R²:   -0.003\n",
      "\n",
      "=== Typhoid Cases per 100,000 people ===\n",
      "MAE:  25.37\n",
      "RMSE: 29.03\n",
      "R²:   -0.004\n"
     ]
    }
   ],
   "source": [
    "# wrap cgboost in multiouput regressor to handle the targets\n",
    "multi_xgb_model = MultiOutputRegressor(\n",
    "    xgb.XGBRegressor(\n",
    "        n_estimators=100, \n",
    "        learning_rate=0.01, \n",
    "        max_depth=7, \n",
    "        subsample=0.6, \n",
    "        random_state=42\n",
    "    )\n",
    ")\n",
    "\n",
    "# fit on entire training data (all targets at once)\n",
    "multi_xgb_model.fit(X_train_processed, y_train)\n",
    "\n",
    "y_pred_multi = multi_xgb_model.predict(X_test_processed)\n",
    "\n",
    "\n",
    "# evaluate for ea. target\n",
    "for idx, target in enumerate(y_train.columns):\n",
    "    print(f\"\\n=== {target} ===\")\n",
    "    mae = mean_absolute_error(y_test[target], y_pred_multi[:, idx])\n",
    "    rmse = np.sqrt(mean_squared_error(y_test[target], y_pred_multi[:, idx]))\n",
    "    r2 = r2_score(y_test[target], y_pred_multi[:, idx])\n",
    "    \n",
    "    print(f\"MAE:  {mae:.2f}\")\n",
    "    print(f\"RMSE: {rmse:.2f}\")\n",
    "    print(f\"R²:   {r2:.3f}\")"
   ]
  },
  {
   "cell_type": "markdown",
   "id": "e2edbd2a-a254-4039-a971-4c58186c05e2",
   "metadata": {},
   "source": [
    "Notes:\n",
    "- Slight improvement in R^2 scores (closer to 0)\n",
    "- Relationships in the data are subtle and spread out, but multi-output regression is a bit better choice to go\n",
    "\n",
    "-----"
   ]
  },
  {
   "cell_type": "markdown",
   "id": "42cad519-1baf-465a-bfdd-ff8c6d3dbb30",
   "metadata": {},
   "source": [
    "#### Feature Engineering Time\n"
   ]
  },
  {
   "cell_type": "code",
   "execution_count": 45,
   "id": "358c6eb8-1c23-4ee0-b6bc-43f828c2b312",
   "metadata": {},
   "outputs": [
    {
     "name": "stdout",
     "output_type": "stream",
     "text": [
      "Turbidity (NTU)                                  0.047479\n",
      "GDP per Capita (USD)                             0.029165\n",
      "Infant Mortality Rate (per 1,000 live births)    0.021184\n",
      "Nitrate Level (mg/L)                             0.018850\n",
      "Access to Clean Water (% of Population)          0.017730\n",
      "Dissolved Oxygen (mg/L)                          0.015727\n",
      "Bacteria Count (CFU/mL)                          0.010984\n",
      "Rainfall (mm per year)                           0.008513\n",
      "Year                                             0.004847\n",
      "Urbanization Rate (%)                            0.002250\n",
      "Contaminant Level (ppm)                          0.000074\n",
      "Temperature (°C)                                -0.009104\n",
      "Population Density (people per km²)             -0.011910\n",
      "Healthcare Access Index (0-100)                 -0.012236\n",
      "pH Level                                        -0.016654\n",
      "Lead Concentration (µg/L)                       -0.020212\n",
      "Sanitation Coverage (% of Population)           -0.025801\n",
      "dtype: float64\n"
     ]
    }
   ],
   "source": [
    "# lets check for skews\n",
    "\n",
    "# numerical cols \n",
    "num_cols = df_base.select_dtypes(include=[np.number]).columns\n",
    "num_features = [col for col in num_cols if col not in target_cols]\n",
    "\n",
    "# compute skewness\n",
    "skew_vals = df_base[num_features].skew().sort_values(ascending=False)\n",
    "print(skew_vals)"
   ]
  },
  {
   "cell_type": "code",
   "execution_count": 47,
   "id": "df8f201c-7c07-4775-a077-b1a4a6ad7a28",
   "metadata": {},
   "outputs": [
    {
     "data": {
      "text/plain": [
       "array([[<Axes: title={'center': 'Turbidity (NTU)'}>,\n",
       "        <Axes: title={'center': 'GDP per Capita (USD)'}>],\n",
       "       [<Axes: title={'center': 'Infant Mortality Rate (per 1,000 live births)'}>,\n",
       "        <Axes: title={'center': 'Nitrate Level (mg/L)'}>],\n",
       "       [<Axes: title={'center': 'Access to Clean Water (% of Population)'}>,\n",
       "        <Axes: title={'center': 'Dissolved Oxygen (mg/L)'}>]],\n",
       "      dtype=object)"
      ]
     },
     "execution_count": 47,
     "metadata": {},
     "output_type": "execute_result"
    },
    {
     "data": {
      "image/png": "[encoded data removed]",
      "text/plain": [
       "<Figure size 1500x1000 with 6 Axes>"
      ]
     },
     "metadata": {},
     "output_type": "display_data"
    }
   ],
   "source": [
    "# to visualize with histograms\n",
    "top_skewed_features = skew_vals.index[:6]\n",
    "df_base[top_skewed_features].hist(bins=30, figsize=(15,10))"
   ]
  },
  {
   "cell_type": "markdown",
   "id": "55d240a6-72d7-4425-9349-98fc917ac2db",
   "metadata": {},
   "source": [
    "Notes: \n",
    "- All numeric features have very low skew\n",
    "- Looking into interaction features next"
   ]
  },
  {
   "cell_type": "code",
   "execution_count": 50,
   "id": "9681a1ae-7056-43c4-aa8b-5e70823f68aa",
   "metadata": {},
   "outputs": [],
   "source": [
    "# making a new df for feature engineering \n",
    "df_fe = df_base.copy()\n",
    "\n",
    "# economic capacity x healthcare system\n",
    "df_fe['GDP_x_Healthcare'] = df_fe['GDP per Capita (USD)'] * df_fe['Healthcare Access Index (0-100)']\n",
    "\n",
    "# sanitation gap\n",
    "df_fe['Sanitation_Gap'] = 100 - df_fe['Sanitation Coverage (% of Population)']\n",
    "\n",
    "# urbanization x clean water access\n",
    "df_fe['CleanWater_x_Urban'] = df_fe['Access to Clean Water (% of Population)'] * df_fe['Urbanization Rate (%)']\n",
    "\n",
    "# mortality inefficiency\n",
    "df_fe['Mortality_per_GDP'] = df_fe['Infant Mortality Rate (per 1,000 live births)'] / (df_fe['GDP per Capita (USD)'] + 1)"
   ]
  },
  {
   "cell_type": "code",
   "execution_count": 52,
   "id": "ec4db6c2-8192-4b39-8848-6dbc464d224a",
   "metadata": {},
   "outputs": [],
   "source": [
    "# make pollution index \n",
    "pollution_features = [\n",
    "    'Contaminant Level (ppm)',\n",
    "    'Lead Concentration (µg/L)',\n",
    "    'Nitrate Level (mg/L)',\n",
    "    'Bacteria Count (CFU/mL)',\n",
    "    'Turbidity (NTU)'\n",
    "]\n",
    "\n",
    "# normalize ea. pollution feature to 0–1 range before summing\n",
    "scaler = MinMaxScaler()\n",
    "df_scaled_pollution = pd.DataFrame(\n",
    "    scaler.fit_transform(df_fe[pollution_features]),\n",
    "    columns=[f\"scaled_{col}\" for col in pollution_features]\n",
    ")\n",
    "\n",
    "# now add it to original DataFrame\n",
    "df_fe = pd.concat([df_fe, df_scaled_pollution], axis=1)\n",
    "\n",
    "# Compute pollution index as sum of scaled values\n",
    "df_fe['Pollution_Index'] = df_scaled_pollution.sum(axis=1)"
   ]
  },
  {
   "cell_type": "code",
   "execution_count": 54,
   "id": "b540c2d0-40e5-4b97-b4bd-fd745d997c52",
   "metadata": {},
   "outputs": [
    {
     "data": {
      "text/html": [
       "<div>\n",
       "<style scoped>\n",
       "    .dataframe tbody tr th:only-of-type {\n",
       "        vertical-align: middle;\n",
       "    }\n",
       "\n",
       "    .dataframe tbody tr th {\n",
       "        vertical-align: top;\n",
       "    }\n",
       "\n",
       "    .dataframe thead th {\n",
       "        text-align: right;\n",
       "    }\n",
       "</style>\n",
       "<table border=\"1\" class=\"dataframe\">\n",
       "  <thead>\n",
       "    <tr style=\"text-align: right;\">\n",
       "      <th></th>\n",
       "      <th>GDP_x_Healthcare</th>\n",
       "      <th>Sanitation_Gap</th>\n",
       "      <th>CleanWater_x_Urban</th>\n",
       "      <th>Mortality_per_GDP</th>\n",
       "      <th>Pollution_Index</th>\n",
       "    </tr>\n",
       "  </thead>\n",
       "  <tbody>\n",
       "    <tr>\n",
       "      <th>0</th>\n",
       "      <td>5529964.44</td>\n",
       "      <td>36.77</td>\n",
       "      <td>2842.8960</td>\n",
       "      <td>0.001335</td>\n",
       "      <td>2.621941</td>\n",
       "    </tr>\n",
       "    <tr>\n",
       "      <th>1</th>\n",
       "      <td>1459050.60</td>\n",
       "      <td>70.88</td>\n",
       "      <td>6569.5498</td>\n",
       "      <td>0.004489</td>\n",
       "      <td>2.956667</td>\n",
       "    </tr>\n",
       "    <tr>\n",
       "      <th>2</th>\n",
       "      <td>5021104.14</td>\n",
       "      <td>6.44</td>\n",
       "      <td>2571.2294</td>\n",
       "      <td>0.000563</td>\n",
       "      <td>1.879783</td>\n",
       "    </tr>\n",
       "    <tr>\n",
       "      <th>3</th>\n",
       "      <td>1217655.62</td>\n",
       "      <td>5.75</td>\n",
       "      <td>4088.6571</td>\n",
       "      <td>0.003069</td>\n",
       "      <td>3.016674</td>\n",
       "    </tr>\n",
       "    <tr>\n",
       "      <th>4</th>\n",
       "      <td>590972.83</td>\n",
       "      <td>30.77</td>\n",
       "      <td>2033.1300</td>\n",
       "      <td>0.002291</td>\n",
       "      <td>3.307111</td>\n",
       "    </tr>\n",
       "  </tbody>\n",
       "</table>\n",
       "</div>"
      ],
      "text/plain": [
       "   GDP_x_Healthcare  Sanitation_Gap  CleanWater_x_Urban  Mortality_per_GDP  \\\n",
       "0        5529964.44           36.77           2842.8960           0.001335   \n",
       "1        1459050.60           70.88           6569.5498           0.004489   \n",
       "2        5021104.14            6.44           2571.2294           0.000563   \n",
       "3        1217655.62            5.75           4088.6571           0.003069   \n",
       "4         590972.83           30.77           2033.1300           0.002291   \n",
       "\n",
       "   Pollution_Index  \n",
       "0         2.621941  \n",
       "1         2.956667  \n",
       "2         1.879783  \n",
       "3         3.016674  \n",
       "4         3.307111  "
      ]
     },
     "execution_count": 54,
     "metadata": {},
     "output_type": "execute_result"
    }
   ],
   "source": [
    "# look at a sample\n",
    "df_fe[['GDP_x_Healthcare', 'Sanitation_Gap', 'CleanWater_x_Urban', \n",
    "    'Mortality_per_GDP', 'Pollution_Index']].head()"
   ]
  },
  {
   "cell_type": "code",
   "execution_count": 56,
   "id": "3a4bd4c8-ab6e-48c1-8a79-e6052633ad91",
   "metadata": {},
   "outputs": [
    {
     "name": "stdout",
     "output_type": "stream",
     "text": [
      "Numerical features: ['Year', 'Contaminant Level (ppm)', 'pH Level', 'Turbidity (NTU)', 'Dissolved Oxygen (mg/L)', 'Nitrate Level (mg/L)', 'Lead Concentration (µg/L)', 'Bacteria Count (CFU/mL)', 'Access to Clean Water (% of Population)', 'Infant Mortality Rate (per 1,000 live births)', 'GDP per Capita (USD)', 'Healthcare Access Index (0-100)', 'Urbanization Rate (%)', 'Sanitation Coverage (% of Population)', 'Rainfall (mm per year)', 'Temperature (°C)', 'Population Density (people per km²)', 'GDP_x_Healthcare', 'Sanitation_Gap', 'CleanWater_x_Urban', 'Mortality_per_GDP', 'scaled_Contaminant Level (ppm)', 'scaled_Lead Concentration (µg/L)', 'scaled_Nitrate Level (mg/L)', 'scaled_Bacteria Count (CFU/mL)', 'scaled_Turbidity (NTU)', 'Pollution_Index']\n",
      "\n",
      "\n",
      "Categorical features: ['Country', 'Region', 'Water Source Type', 'Water Treatment Method']\n"
     ]
    }
   ],
   "source": [
    "# re-define numerical columns minus targets\n",
    "num_cols2 = [\n",
    "    col for col in df_fe.select_dtypes(include=[np.number]).columns \n",
    "    if col not in target_cols\n",
    "]\n",
    "\n",
    "# re-define categorical columns\n",
    "cat_cols2 = [\n",
    "    col for col in df_fe.select_dtypes(include=['object']).columns \n",
    "    if col not in target_cols\n",
    "]\n",
    "\n",
    "print(\"Numerical features:\", num_cols2)\n",
    "print(\"\\n\\nCategorical features:\", cat_cols2)"
   ]
  },
  {
   "cell_type": "markdown",
   "id": "e30bbf07-24fc-42c6-a68e-7211e9960903",
   "metadata": {},
   "source": [
    "-----\n",
    "#### Re-run Models"
   ]
  },
  {
   "cell_type": "code",
   "execution_count": 59,
   "id": "5c1dacb6-50f9-4441-a0fd-32f9cd947b53",
   "metadata": {},
   "outputs": [],
   "source": [
    "X = df_fe.drop(columns=target_cols)\n",
    "y = df_fe[target_cols]\n",
    "\n",
    "X_train, X_test, y_train, y_test = train_test_split(\n",
    "    X, y, test_size=0.2, random_state=42\n",
    ")\n",
    "\n",
    "\n",
    "# fit on training data\n",
    "X_train_processed = preprocessor.fit_transform(X_train)\n",
    "X_test_processed = preprocessor.transform(X_test)"
   ]
  },
  {
   "cell_type": "code",
   "execution_count": 69,
   "id": "9fd06933-e700-4929-b347-6af704155c49",
   "metadata": {},
   "outputs": [
    {
     "name": "stdout",
     "output_type": "stream",
     "text": [
      "\n",
      "=== Diarrheal Cases per 100,000 people ===\n",
      "MAE:  127.76\n",
      "RMSE: 146.71\n",
      "R²:   -0.013\n",
      "\n",
      "=== Cholera Cases per 100,000 people ===\n",
      "MAE:  12.36\n",
      "RMSE: 14.32\n",
      "R²:   0.003\n",
      "\n",
      "=== Typhoid Cases per 100,000 people ===\n",
      "MAE:  25.34\n",
      "RMSE: 29.04\n",
      "R²:   -0.005\n"
     ]
    }
   ],
   "source": [
    "# multi-output \n",
    "multi_xgb_model.fit(X_train_processed, y_train)\n",
    "multi_preds_fe = multi_xgb_model.predict(X_test_processed)\n",
    "\n",
    "for idx, target in enumerate(y_train.columns):\n",
    "    print(f\"\\n=== {target} ===\")\n",
    "    mae = mean_absolute_error(y_test[target], multi_preds_fe[:, idx])\n",
    "    rmse = np.sqrt(mean_squared_error(y_test[target], multi_preds_fe[:, idx]))\n",
    "    r2 = r2_score(y_test[target], multi_preds_fe[:, idx])\n",
    "    print(f\"MAE:  {mae:.2f}\")\n",
    "    print(f\"RMSE: {rmse:.2f}\")\n",
    "    print(f\"R²:   {r2:.3f}\")"
   ]
  },
  {
   "cell_type": "markdown",
   "id": "2b4e919f-6e23-4152-844f-8a61c01fb350",
   "metadata": {},
   "source": [
    "notes:\n",
    "- small improvements in mae/rmse (just a bit better) suggest some added value from feature engineering, but it's still weak overall\n",
    "- R^2 is still around 0 or negative, meaning the relationships are too weak to explain variation well\n",
    "- The new features helped a little"
   ]
  },
  {
   "cell_type": "code",
   "execution_count": 72,
   "id": "ca82217f-b35e-4155-978e-98a957569ba8",
   "metadata": {},
   "outputs": [
    {
     "name": "stdout",
     "output_type": "stream",
     "text": [
      "                    Diarrheal Cases per 100,000 people  \\\n",
      "GDP_x_Healthcare                              0.004909   \n",
      "Sanitation_Gap                               -0.033032   \n",
      "CleanWater_x_Urban                            0.025100   \n",
      "Mortality_per_GDP                             0.005281   \n",
      "Pollution_Index                               0.012565   \n",
      "\n",
      "                    Cholera Cases per 100,000 people  \\\n",
      "GDP_x_Healthcare                           -0.004259   \n",
      "Sanitation_Gap                              0.000448   \n",
      "CleanWater_x_Urban                          0.008459   \n",
      "Mortality_per_GDP                           0.002367   \n",
      "Pollution_Index                             0.028984   \n",
      "\n",
      "                    Typhoid Cases per 100,000 people  \n",
      "GDP_x_Healthcare                            0.046540  \n",
      "Sanitation_Gap                             -0.029559  \n",
      "CleanWater_x_Urban                         -0.023734  \n",
      "Mortality_per_GDP                           0.016879  \n",
      "Pollution_Index                             0.005590  \n"
     ]
    }
   ],
   "source": [
    "engineered_features = [\n",
    "    'GDP_x_Healthcare',\n",
    "    'Sanitation_Gap',\n",
    "    'CleanWater_x_Urban',\n",
    "    'Mortality_per_GDP',\n",
    "    'Pollution_Index'\n",
    "]\n",
    "\n",
    "# check correlations\n",
    "corr_df = df_fe[engineered_features + target_cols].corr()\n",
    "\n",
    "# engineered features vs targets\n",
    "result = corr_df.loc[engineered_features, target_cols]\n",
    "print(result)"
   ]
  },
  {
   "cell_type": "code",
   "execution_count": 74,
   "id": "2eff2d78-082b-425c-a1f8-a6dddf6ef399",
   "metadata": {},
   "outputs": [
    {
     "data": {
      "image/png": "[encoded data removed]",
      "text/plain": [
       "<Figure size 800x500 with 2 Axes>"
      ]
     },
     "metadata": {},
     "output_type": "display_data"
    }
   ],
   "source": [
    "plt.figure(figsize=(8, 5))\n",
    "sns.heatmap(result, annot=True, cmap='coolwarm', fmt=\".2f\")\n",
    "plt.title('Correlation of Engineered Features with Disease Counts')\n",
    "plt.show()"
   ]
  },
  {
   "cell_type": "markdown",
   "id": "cda2f87d-d2b9-4878-953d-d66b26163ab0",
   "metadata": {},
   "source": [
    "------\n",
    "#### Trying Other Models \n",
    "- Ridge Regression: A regularized linear model, because the data shows no strong relationships, so regularization will help avoid overfitting noise.\n",
    "- LightGBM: A fast and efficient gradient boosting method that may benefit smaller, low-signal datasets with its effective split strategy\n",
    "- CatBoost: A gradient boosting model that excels at handling categorical features, making it effective for datasets with meaningful categories like country and region."
   ]
  },
  {
   "cell_type": "code",
   "execution_count": 93,
   "id": "a184e4c8-a8d4-4eb9-955e-7cf684aaf19a",
   "metadata": {},
   "outputs": [
    {
     "name": "stdout",
     "output_type": "stream",
     "text": [
      "\n",
      "=== Ridge ===\n",
      "\n",
      "Training for target: Diarrheal Cases per 100,000 people\n",
      "MAE:  128.50\n",
      "RMSE: 147.26\n",
      "R²:   -0.020\n",
      "\n",
      "Training for target: Cholera Cases per 100,000 people\n",
      "MAE:  12.42\n",
      "RMSE: 14.39\n",
      "R²:   -0.006\n",
      "\n",
      "Training for target: Typhoid Cases per 100,000 people\n",
      "MAE:  25.58\n",
      "RMSE: 29.38\n",
      "R²:   -0.028\n",
      "\n",
      "=== LightGBM ===\n",
      "\n",
      "Training for target: Diarrheal Cases per 100,000 people\n",
      "[LightGBM] [Info] Auto-choosing col-wise multi-threading, the overhead of testing was 0.008610 seconds.\n",
      "You can set `force_col_wise=true` to remove the overhead.\n",
      "[LightGBM] [Info] Total Bins 6677\n",
      "[LightGBM] [Info] Number of data points in the train set: 2400, number of used features: 52\n",
      "[LightGBM] [Info] Start training from score 249.285000\n"
     ]
    },
    {
     "name": "stderr",
     "output_type": "stream",
     "text": [
      "/Users/darleneeligado/anaconda3/lib/python3.11/site-packages/sklearn/linear_model/_ridge.py:213: LinAlgWarning: Ill-conditioned matrix (rcond=6.40699e-17): result may not be accurate.\n",
      "  return linalg.solve(A, Xy, assume_a=\"pos\", overwrite_a=True).T\n",
      "/Users/darleneeligado/anaconda3/lib/python3.11/site-packages/sklearn/linear_model/_ridge.py:213: LinAlgWarning: Ill-conditioned matrix (rcond=6.40699e-17): result may not be accurate.\n",
      "  return linalg.solve(A, Xy, assume_a=\"pos\", overwrite_a=True).T\n",
      "/Users/darleneeligado/anaconda3/lib/python3.11/site-packages/sklearn/linear_model/_ridge.py:213: LinAlgWarning: Ill-conditioned matrix (rcond=6.40699e-17): result may not be accurate.\n",
      "  return linalg.solve(A, Xy, assume_a=\"pos\", overwrite_a=True).T\n",
      "/Users/darleneeligado/anaconda3/lib/python3.11/site-packages/sklearn/utils/validation.py:2749: UserWarning: X does not have valid feature names, but LGBMRegressor was fitted with feature names\n",
      "  warnings.warn(\n",
      "/Users/darleneeligado/anaconda3/lib/python3.11/site-packages/sklearn/utils/validation.py:2749: UserWarning: X does not have valid feature names, but LGBMRegressor was fitted with feature names\n",
      "  warnings.warn(\n"
     ]
    },
    {
     "name": "stdout",
     "output_type": "stream",
     "text": [
      "MAE:  131.76\n",
      "RMSE: 153.73\n",
      "R²:   -0.112\n",
      "\n",
      "Training for target: Cholera Cases per 100,000 people\n",
      "[LightGBM] [Info] Auto-choosing col-wise multi-threading, the overhead of testing was 0.000502 seconds.\n",
      "You can set `force_col_wise=true` to remove the overhead.\n",
      "[LightGBM] [Info] Total Bins 6677\n",
      "[LightGBM] [Info] Number of data points in the train set: 2400, number of used features: 52\n",
      "[LightGBM] [Info] Start training from score 24.282083\n",
      "MAE:  12.72\n",
      "RMSE: 14.85\n",
      "R²:   -0.071\n",
      "\n",
      "Training for target: Typhoid Cases per 100,000 people\n",
      "[LightGBM] [Info] Auto-choosing col-wise multi-threading, the overhead of testing was 0.000426 seconds.\n",
      "You can set `force_col_wise=true` to remove the overhead.\n",
      "[LightGBM] [Info] Total Bins 6677\n",
      "[LightGBM] [Info] Number of data points in the train set: 2400, number of used features: 52\n",
      "[LightGBM] [Info] Start training from score 49.156667\n"
     ]
    },
    {
     "name": "stderr",
     "output_type": "stream",
     "text": [
      "/Users/darleneeligado/anaconda3/lib/python3.11/site-packages/sklearn/utils/validation.py:2749: UserWarning: X does not have valid feature names, but LGBMRegressor was fitted with feature names\n",
      "  warnings.warn(\n"
     ]
    },
    {
     "name": "stdout",
     "output_type": "stream",
     "text": [
      "MAE:  26.02\n",
      "RMSE: 30.12\n",
      "R²:   -0.081\n",
      "\n",
      "=== CatBoost ===\n",
      "\n",
      "Training for target: Diarrheal Cases per 100,000 people\n",
      "MAE:  131.62\n",
      "RMSE: 152.99\n",
      "R²:   -0.101\n",
      "\n",
      "Training for target: Cholera Cases per 100,000 people\n",
      "MAE:  12.62\n",
      "RMSE: 14.76\n",
      "R²:   -0.059\n",
      "\n",
      "Training for target: Typhoid Cases per 100,000 people\n",
      "MAE:  26.24\n",
      "RMSE: 30.40\n",
      "R²:   -0.101\n"
     ]
    },
    {
     "data": {
      "text/html": [
       "<div>\n",
       "<style scoped>\n",
       "    .dataframe tbody tr th:only-of-type {\n",
       "        vertical-align: middle;\n",
       "    }\n",
       "\n",
       "    .dataframe tbody tr th {\n",
       "        vertical-align: top;\n",
       "    }\n",
       "\n",
       "    .dataframe thead th {\n",
       "        text-align: right;\n",
       "    }\n",
       "</style>\n",
       "<table border=\"1\" class=\"dataframe\">\n",
       "  <thead>\n",
       "    <tr style=\"text-align: right;\">\n",
       "      <th></th>\n",
       "      <th>Model</th>\n",
       "      <th>Target</th>\n",
       "      <th>MAE</th>\n",
       "      <th>RMSE</th>\n",
       "      <th>R2</th>\n",
       "    </tr>\n",
       "  </thead>\n",
       "  <tbody>\n",
       "    <tr>\n",
       "      <th>0</th>\n",
       "      <td>Ridge</td>\n",
       "      <td>Diarrheal Cases per 100,000 people</td>\n",
       "      <td>128.504551</td>\n",
       "      <td>147.259405</td>\n",
       "      <td>-0.020256</td>\n",
       "    </tr>\n",
       "    <tr>\n",
       "      <th>1</th>\n",
       "      <td>Ridge</td>\n",
       "      <td>Cholera Cases per 100,000 people</td>\n",
       "      <td>12.423151</td>\n",
       "      <td>14.392442</td>\n",
       "      <td>-0.006194</td>\n",
       "    </tr>\n",
       "    <tr>\n",
       "      <th>2</th>\n",
       "      <td>Ridge</td>\n",
       "      <td>Typhoid Cases per 100,000 people</td>\n",
       "      <td>25.580665</td>\n",
       "      <td>29.377884</td>\n",
       "      <td>-0.028346</td>\n",
       "    </tr>\n",
       "    <tr>\n",
       "      <th>3</th>\n",
       "      <td>LightGBM</td>\n",
       "      <td>Diarrheal Cases per 100,000 people</td>\n",
       "      <td>131.764209</td>\n",
       "      <td>153.730957</td>\n",
       "      <td>-0.111900</td>\n",
       "    </tr>\n",
       "    <tr>\n",
       "      <th>4</th>\n",
       "      <td>LightGBM</td>\n",
       "      <td>Cholera Cases per 100,000 people</td>\n",
       "      <td>12.717639</td>\n",
       "      <td>14.847564</td>\n",
       "      <td>-0.070836</td>\n",
       "    </tr>\n",
       "    <tr>\n",
       "      <th>5</th>\n",
       "      <td>LightGBM</td>\n",
       "      <td>Typhoid Cases per 100,000 people</td>\n",
       "      <td>26.015119</td>\n",
       "      <td>30.116071</td>\n",
       "      <td>-0.080674</td>\n",
       "    </tr>\n",
       "    <tr>\n",
       "      <th>6</th>\n",
       "      <td>CatBoost</td>\n",
       "      <td>Diarrheal Cases per 100,000 people</td>\n",
       "      <td>131.619173</td>\n",
       "      <td>152.990731</td>\n",
       "      <td>-0.101218</td>\n",
       "    </tr>\n",
       "    <tr>\n",
       "      <th>7</th>\n",
       "      <td>CatBoost</td>\n",
       "      <td>Cholera Cases per 100,000 people</td>\n",
       "      <td>12.621279</td>\n",
       "      <td>14.763097</td>\n",
       "      <td>-0.058687</td>\n",
       "    </tr>\n",
       "    <tr>\n",
       "      <th>8</th>\n",
       "      <td>CatBoost</td>\n",
       "      <td>Typhoid Cases per 100,000 people</td>\n",
       "      <td>26.237264</td>\n",
       "      <td>30.402767</td>\n",
       "      <td>-0.101348</td>\n",
       "    </tr>\n",
       "  </tbody>\n",
       "</table>\n",
       "</div>"
      ],
      "text/plain": [
       "      Model                              Target         MAE        RMSE  \\\n",
       "0     Ridge  Diarrheal Cases per 100,000 people  128.504551  147.259405   \n",
       "1     Ridge    Cholera Cases per 100,000 people   12.423151   14.392442   \n",
       "2     Ridge    Typhoid Cases per 100,000 people   25.580665   29.377884   \n",
       "3  LightGBM  Diarrheal Cases per 100,000 people  131.764209  153.730957   \n",
       "4  LightGBM    Cholera Cases per 100,000 people   12.717639   14.847564   \n",
       "5  LightGBM    Typhoid Cases per 100,000 people   26.015119   30.116071   \n",
       "6  CatBoost  Diarrheal Cases per 100,000 people  131.619173  152.990731   \n",
       "7  CatBoost    Cholera Cases per 100,000 people   12.621279   14.763097   \n",
       "8  CatBoost    Typhoid Cases per 100,000 people   26.237264   30.402767   \n",
       "\n",
       "         R2  \n",
       "0 -0.020256  \n",
       "1 -0.006194  \n",
       "2 -0.028346  \n",
       "3 -0.111900  \n",
       "4 -0.070836  \n",
       "5 -0.080674  \n",
       "6 -0.101218  \n",
       "7 -0.058687  \n",
       "8 -0.101348  "
      ]
     },
     "metadata": {},
     "output_type": "display_data"
    }
   ],
   "source": [
    "# models\n",
    "models2 = {\n",
    "    \"Ridge\": Ridge(alpha=1.0, random_state=42),\n",
    "    \"LightGBM\": lgb.LGBMRegressor(random_state=42),\n",
    "    \"CatBoost\": CatBoostRegressor(silent=True, random_state=42)\n",
    "}\n",
    "\n",
    "# to store results\n",
    "results2 = []\n",
    "\n",
    "# loop over models and targets\n",
    "for model_name, model in models2.items():\n",
    "    print(f\"\\n=== {model_name} ===\")\n",
    "    for target in target_cols:\n",
    "        print(f\"\\nTraining for target: {target}\")\n",
    "        \n",
    "        model.fit(X_train_processed, y_train[target])\n",
    "        \n",
    "        y_pred = model.predict(X_test_processed)\n",
    "        \n",
    "        # metrics\n",
    "        mae = mean_absolute_error(y_test[target], y_pred)\n",
    "        rmse = np.sqrt(mean_squared_error(y_test[target], y_pred))\n",
    "        r2 = r2_score(y_test[target], y_pred)\n",
    "        \n",
    "        print(f\"MAE:  {mae:.2f}\")\n",
    "        print(f\"RMSE: {rmse:.2f}\")\n",
    "        print(f\"R²:   {r2:.3f}\")\n",
    "        \n",
    "        # save results\n",
    "        results2.append({\n",
    "            \"Model\": model_name,\n",
    "            \"Target\": target,\n",
    "            \"MAE\": mae,\n",
    "            \"RMSE\": rmse,\n",
    "            \"R2\": r2\n",
    "        })\n",
    "\n",
    "# make results df\n",
    "model_results = pd.DataFrame(results2)\n",
    "display(model_results)"
   ]
  },
  {
   "cell_type": "code",
   "execution_count": 98,
   "id": "1f93b910-dea9-4f47-9a2a-3a5dd847ffc6",
   "metadata": {},
   "outputs": [
    {
     "data": {
      "image/png": "[encoded data removed]",
      "text/plain": [
       "<Figure size 1000x600 with 1 Axes>"
      ]
     },
     "metadata": {},
     "output_type": "display_data"
    },
    {
     "data": {
      "image/png": "[encoded data removed]",
      "text/plain": [
       "<Figure size 1000x600 with 1 Axes>"
      ]
     },
     "metadata": {},
     "output_type": "display_data"
    },
    {
     "data": {
      "image/png": "[encoded data removed]",
      "text/plain": [
       "<Figure size 1000x600 with 1 Axes>"
      ]
     },
     "metadata": {},
     "output_type": "display_data"
    }
   ],
   "source": [
    "# model visualizations\n",
    "sns.set(style=\"whitegrid\")\n",
    "\n",
    "# mae\n",
    "plt.figure(figsize=(10, 6))\n",
    "sns.barplot(x=\"Target\", y=\"MAE\", hue=\"Model\", data=model_results)\n",
    "plt.title(\"MAE Comparison by Model and Target\")\n",
    "plt.ylabel(\"Mean Absolute Error\")\n",
    "plt.show()\n",
    "\n",
    "# rmse\n",
    "plt.figure(figsize=(10, 6))\n",
    "sns.barplot(x=\"Target\", y=\"RMSE\", hue=\"Model\", data=model_results)\n",
    "plt.title(\"RMSE Comparison by Model and Target\")\n",
    "plt.ylabel(\"Root Mean Squared Error\")\n",
    "plt.show()\n",
    "\n",
    "# r squared \n",
    "plt.figure(figsize=(10, 6))\n",
    "sns.barplot(x=\"Target\", y=\"R2\", hue=\"Model\", data=model_results)\n",
    "plt.title(\"R² Comparison by Model and Target\")\n",
    "plt.ylabel(\"R² Score\")\n",
    "plt.axhline(0, color='red', linestyle='--') \n",
    "plt.show()"
   ]
  },
  {
   "cell_type": "markdown",
   "id": "d31fb1d9-996c-4743-bb5f-fdeeaf44a543",
   "metadata": {},
   "source": [
    "Notes:\n",
    "- All models had negative R^2 values, which means they performed worse than just predicting the mean\n",
    "- Even advanced methods like LightGBM and CatBoost couldn't find any useful non-linear patterns\n",
    "- Ridge Regression, a simpler linear model, did just as well or slightly better, showing that the data doesn't have a clear structure to take advantage of\n",
    "------"
   ]
  }
 ],
 "metadata": {
  "kernelspec": {
   "display_name": "Python 3 (ipykernel)",
   "language": "python",
   "name": "python3"
  },
  "language_info": {
   "codemirror_mode": {
    "name": "ipython",
    "version": 3
   },
   "file_extension": ".py",
   "mimetype": "text/x-python",
   "name": "python",
   "nbconvert_exporter": "python",
   "pygments_lexer": "ipython3",
   "version": "3.11.5"
  }
 },
 "nbformat": 4,
 "nbformat_minor": 5
}
