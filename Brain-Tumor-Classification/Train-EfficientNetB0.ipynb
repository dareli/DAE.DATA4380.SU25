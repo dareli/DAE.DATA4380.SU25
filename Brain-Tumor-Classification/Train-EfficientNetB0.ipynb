{
 "cells": [
  {
   "cell_type": "markdown",
   "id": "5adb736d-1879-47db-b5b8-76d0789beeb4",
   "metadata": {},
   "source": [
    "# **Train EfficientNetB0**\n",
    "----\n",
    "- Training: Achieved 97.36% training accuracy by epoch 10 BUT the validation accuracy stayed low (23–34%), and loss was unstable. Could be severe overfitting. Not a good candidate for final use due to poor validation results.\n",
    "\n",
    "---"
   ]
  },
  {
   "cell_type": "code",
   "execution_count": 8,
   "id": "290a90b2-2c0d-4ba2-9d40-fa2f6717c1f1",
   "metadata": {},
   "outputs": [],
   "source": [
    "# imports\n",
    "import os\n",
    "import numpy as np\n",
    "import matplotlib.pyplot as plt\n",
    "import tensorflow as tf\n",
    "import pickle\n",
    "from tensorflow import keras\n",
    "from tensorflow.keras import layers\n",
    "from tensorflow.keras.models import Model\n",
    "from tensorflow.keras.applications import EfficientNetB0\n",
    "from tensorflow.keras.preprocessing.image import ImageDataGenerator\n",
    "\n",
    "\n",
    "np.random.seed(42)\n",
    "tf.random.set_seed(42)"
   ]
  },
  {
   "cell_type": "code",
   "execution_count": 2,
   "id": "8dbbc575-60e5-4d83-a30f-9301966a663d",
   "metadata": {},
   "outputs": [
    {
     "name": "stdout",
     "output_type": "stream",
     "text": [
      "Found 4571 images belonging to 4 classes.\n",
      "Found 1141 images belonging to 4 classes.\n"
     ]
    }
   ],
   "source": [
    "# will be using the cleaned data \n",
    "data_dir = 'tumor_data_cleaned'\n",
    "train_dir = os.path.join(data_dir, 'Training')\n",
    "test_dir = os.path.join(data_dir, 'Testing')\n",
    "\n",
    "# the augmented training data\n",
    "train_datagen_aug = ImageDataGenerator(\n",
    "    rescale=1./255,\n",
    "    rotation_range=10,\n",
    "    width_shift_range=0.1,\n",
    "    height_shift_range=0.1,\n",
    "    zoom_range=0.2,\n",
    "    horizontal_flip=True,\n",
    "    fill_mode='nearest',\n",
    "    validation_split=0.2 # 20% of training data for validation\n",
    ")\n",
    "\n",
    "# NO augmentation for validation\n",
    "val_datagen = ImageDataGenerator(rescale=1./255, validation_split=0.2)\n",
    "\n",
    "# here are the generators\n",
    "train_gen = train_datagen_aug.flow_from_directory(\n",
    "    train_dir,\n",
    "    target_size=(224, 224),\n",
    "    color_mode='grayscale',\n",
    "    batch_size=8,\n",
    "    class_mode='categorical',\n",
    "    subset='training',\n",
    "    shuffle=True\n",
    ")\n",
    "\n",
    "val_gen = val_datagen.flow_from_directory(\n",
    "    train_dir,\n",
    "    target_size=(224, 224),\n",
    "    color_mode='grayscale',\n",
    "    batch_size=8,\n",
    "    class_mode='categorical',\n",
    "    subset='validation',\n",
    "    shuffle=False\n",
    ")"
   ]
  },
  {
   "cell_type": "code",
   "execution_count": 3,
   "id": "340f3008-87c7-4f1c-88d5-64c54c716630",
   "metadata": {},
   "outputs": [],
   "source": [
    "# EfficientNetB0 model \n",
    "def make_efficientnet_model(input_shape=(224,224,1), n_classes=4):\n",
    "    base = EfficientNetB0(weights='imagenet', include_top=False, input_shape=(224,224,3))\n",
    "\n",
    "    inputs = keras.Input(shape=input_shape)\n",
    "    x = layers.Concatenate()([inputs, inputs, inputs])  # convert grayscale to 3 channels\n",
    "    x = base(x, training=False)\n",
    "    x = layers.GlobalAveragePooling2D()(x)\n",
    "    x = layers.Dense(128, activation='relu')(x)\n",
    "    x = layers.Dropout(0.3)(x)\n",
    "    outputs = layers.Dense(n_classes, activation='softmax')(x)\n",
    "\n",
    "    model = Model(inputs, outputs)\n",
    "    model.compile(\n",
    "        optimizer=keras.optimizers.Adam(learning_rate=0.0005),\n",
    "        loss='categorical_crossentropy',\n",
    "        metrics=['accuracy']\n",
    "    )\n",
    "    return model"
   ]
  },
  {
   "cell_type": "code",
   "execution_count": 4,
   "id": "2d79f77c-dcb7-41f9-95a3-6434db231d01",
   "metadata": {},
   "outputs": [
    {
     "name": "stdout",
     "output_type": "stream",
     "text": [
      "Downloading data from https://storage.googleapis.com/keras-applications/efficientnetb0_notop.h5\n",
      "\u001b[1m16705208/16705208\u001b[0m \u001b[32m━━━━━━━━━━━━━━━━━━━━\u001b[0m\u001b[37m\u001b[0m \u001b[1m1s\u001b[0m 0us/step\n",
      "Epoch 1/10\n"
     ]
    },
    {
     "name": "stderr",
     "output_type": "stream",
     "text": [
      "C:\\Users\\eliga\\anaconda3\\envs\\tf_env\\lib\\site-packages\\keras\\src\\trainers\\data_adapters\\py_dataset_adapter.py:121: UserWarning: Your `PyDataset` class should call `super().__init__(**kwargs)` in its constructor. `**kwargs` can include `workers`, `use_multiprocessing`, `max_queue_size`. Do not pass these arguments to `fit()`, as they will be ignored.\n",
      "  self._warn_if_super_not_called()\n"
     ]
    },
    {
     "name": "stdout",
     "output_type": "stream",
     "text": [
      "\u001b[1m572/572\u001b[0m \u001b[32m━━━━━━━━━━━━━━━━━━━━\u001b[0m\u001b[37m\u001b[0m \u001b[1m338s\u001b[0m 549ms/step - accuracy: 0.7773 - loss: 0.5678 - val_accuracy: 0.2340 - val_loss: 1.8196\n",
      "Epoch 2/10\n",
      "\u001b[1m572/572\u001b[0m \u001b[32m━━━━━━━━━━━━━━━━━━━━\u001b[0m\u001b[37m\u001b[0m \u001b[1m304s\u001b[0m 531ms/step - accuracy: 0.9246 - loss: 0.2092 - val_accuracy: 0.2805 - val_loss: 1510.2952\n",
      "Epoch 3/10\n",
      "\u001b[1m572/572\u001b[0m \u001b[32m━━━━━━━━━━━━━━━━━━━━\u001b[0m\u001b[37m\u001b[0m \u001b[1m303s\u001b[0m 530ms/step - accuracy: 0.9321 - loss: 0.1866 - val_accuracy: 0.2796 - val_loss: 4.1120\n",
      "Epoch 4/10\n",
      "\u001b[1m572/572\u001b[0m \u001b[32m━━━━━━━━━━━━━━━━━━━━\u001b[0m\u001b[37m\u001b[0m \u001b[1m303s\u001b[0m 530ms/step - accuracy: 0.9619 - loss: 0.1248 - val_accuracy: 0.2638 - val_loss: 30.0875\n",
      "Epoch 5/10\n",
      "\u001b[1m572/572\u001b[0m \u001b[32m━━━━━━━━━━━━━━━━━━━━\u001b[0m\u001b[37m\u001b[0m \u001b[1m299s\u001b[0m 523ms/step - accuracy: 0.9677 - loss: 0.1058 - val_accuracy: 0.2805 - val_loss: 3.5707\n",
      "Epoch 6/10\n",
      "\u001b[1m572/572\u001b[0m \u001b[32m━━━━━━━━━━━━━━━━━━━━\u001b[0m\u001b[37m\u001b[0m \u001b[1m300s\u001b[0m 524ms/step - accuracy: 0.9678 - loss: 0.1034 - val_accuracy: 0.2796 - val_loss: 7.1329\n",
      "Epoch 7/10\n",
      "\u001b[1m572/572\u001b[0m \u001b[32m━━━━━━━━━━━━━━━━━━━━\u001b[0m\u001b[37m\u001b[0m \u001b[1m299s\u001b[0m 524ms/step - accuracy: 0.9644 - loss: 0.1051 - val_accuracy: 0.2699 - val_loss: 48.4633\n",
      "Epoch 8/10\n",
      "\u001b[1m572/572\u001b[0m \u001b[32m━━━━━━━━━━━━━━━━━━━━\u001b[0m\u001b[37m\u001b[0m \u001b[1m299s\u001b[0m 522ms/step - accuracy: 0.9703 - loss: 0.0955 - val_accuracy: 0.3471 - val_loss: 13.6790\n",
      "Epoch 9/10\n",
      "\u001b[1m572/572\u001b[0m \u001b[32m━━━━━━━━━━━━━━━━━━━━\u001b[0m\u001b[37m\u001b[0m \u001b[1m298s\u001b[0m 521ms/step - accuracy: 0.9726 - loss: 0.0844 - val_accuracy: 0.2752 - val_loss: 2.7081\n",
      "Epoch 10/10\n",
      "\u001b[1m572/572\u001b[0m \u001b[32m━━━━━━━━━━━━━━━━━━━━\u001b[0m\u001b[37m\u001b[0m \u001b[1m299s\u001b[0m 523ms/step - accuracy: 0.9736 - loss: 0.0821 - val_accuracy: 0.1700 - val_loss: 4.6883\n"
     ]
    }
   ],
   "source": [
    "# full model\n",
    "efficientnet_model = make_efficientnet_model()\n",
    " \n",
    "# train using the training generator / do val set \n",
    "efficientnet_history = efficientnet_model.fit(\n",
    "    train_gen,\n",
    "    validation_data=val_gen,\n",
    "    epochs=10,\n",
    "    verbose=1\n",
    ")"
   ]
  },
  {
   "cell_type": "code",
   "execution_count": 6,
   "id": "873f630d-61bb-4ab7-9f27-50226c741e7f",
   "metadata": {},
   "outputs": [
    {
     "data": {
      "image/png": "[encoded data removed]",
      "text/plain": [
       "<Figure size 800x500 with 1 Axes>"
      ]
     },
     "metadata": {},
     "output_type": "display_data"
    }
   ],
   "source": [
    "# plot the learning curves\n",
    "plt.figure(figsize=(8, 5))\n",
    "plt.plot(efficientnet_history.history['accuracy'], label='Train Accuracy')\n",
    "plt.plot(efficientnet_history.history['val_accuracy'], label='Val Accuracy')\n",
    "plt.title('EfficientNetB0 Training vs Validation Accuracy')\n",
    "plt.xlabel('Epoch')\n",
    "plt.ylabel('Accuracy')\n",
    "plt.legend()\n",
    "plt.grid(True)\n",
    "plt.show()\n"
   ]
  },
  {
   "cell_type": "code",
   "execution_count": 9,
   "id": "daf8f1cf-dea4-4370-8974-b6ae8da77aad",
   "metadata": {},
   "outputs": [
    {
     "name": "stderr",
     "output_type": "stream",
     "text": [
      "WARNING:absl:You are saving your model as an HDF5 file via `model.save()` or `keras.saving.save_model(model)`. This file format is considered legacy. We recommend using instead the native Keras format, e.g. `model.save('my_model.keras')` or `keras.saving.save_model(model, 'my_model.keras')`. \n"
     ]
    }
   ],
   "source": [
    "# Save the trained model \n",
    "efficientnet_model.save('efficientnetb0_augmented_model.h5')\n",
    "\n",
    "with open('efficientnetb0_augmented_history.pkl', 'wb') as f:\n",
    "    pickle.dump(efficientnet_history.history, f)"
   ]
  }
 ],
 "metadata": {
  "kernelspec": {
   "display_name": "Python (tf_env)",
   "language": "python",
   "name": "tf_env"
  },
  "language_info": {
   "codemirror_mode": {
    "name": "ipython",
    "version": 3
   },
   "file_extension": ".py",
   "mimetype": "text/x-python",
   "name": "python",
   "nbconvert_exporter": "python",
   "pygments_lexer": "ipython3",
   "version": "3.10.18"
  }
 },
 "nbformat": 4,
 "nbformat_minor": 5
}
